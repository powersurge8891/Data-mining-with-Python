{
  "nbformat": 4,
  "nbformat_minor": 0,
  "metadata": {
    "colab": {
      "name": "Survival Analysis with Kaplan Meier",
      "provenance": [],
      "mount_file_id": "1xKStnVyDcOrdvqzke2tZawZjTUzx5zT8",
      "authorship_tag": "ABX9TyO2Y9++r9hisL4iFGx8J6qW",
      "include_colab_link": true
    },
    "kernelspec": {
      "name": "python3",
      "display_name": "Python 3"
    },
    "language_info": {
      "name": "python"
    }
  },
  "cells": [
    {
      "cell_type": "markdown",
      "metadata": {
        "id": "view-in-github",
        "colab_type": "text"
      },
      "source": [
        "<a href=\"https://colab.research.google.com/github/powersurge8891/Data-mining-with-Python/blob/main/Survival_Analysis_with_Kaplan_Meier.ipynb\" target=\"_parent\"><img src=\"https://colab.research.google.com/assets/colab-badge.svg\" alt=\"Open In Colab\"/></a>"
      ]
    },
    {
      "cell_type": "markdown",
      "metadata": {
        "id": "4bfpueEugNAe"
      },
      "source": [
        "Changing directory"
      ]
    },
    {
      "cell_type": "code",
      "metadata": {
        "colab": {
          "base_uri": "https://localhost:8080/"
        },
        "id": "2oregC2-fVEL",
        "outputId": "722aba9a-9f4a-4d3e-85bd-e6d7e0382aad"
      },
      "source": [
        "%cd /content/drive/MyDrive/Data Mining for Business in Python/1. Survival Analysis"
      ],
      "execution_count": null,
      "outputs": [
        {
          "output_type": "stream",
          "name": "stdout",
          "text": [
            "/content/drive/MyDrive/Data Mining for Business in Python/1. Survival Analysis\n"
          ]
        }
      ]
    },
    {
      "cell_type": "markdown",
      "metadata": {
        "id": "8ZVDlpY5gRTV"
      },
      "source": [
        "Importing data and libraries"
      ]
    },
    {
      "cell_type": "code",
      "metadata": {
        "id": "-dRPAvLGfp9m"
      },
      "source": [
        "import pandas as pd\n",
        "!pip install lifelines\n"
      ],
      "execution_count": null,
      "outputs": []
    },
    {
      "cell_type": "markdown",
      "metadata": {
        "id": "mM5Dq5Buhfxi"
      },
      "source": [
        "Description\n",
        "In 1988 an experiment was designed and implemented at one of AT&T's factories to investigate alternatives in the \"wave soldering\" procedure for mounting electronic\n",
        "componentes to printed circuit boards. The experiment varied a number of factors relevant to the process. The response, measured by eye, is the number of visible solder skips.\n",
        "\n",
        "Usage\n",
        "data(\"solder\")\n",
        "\n",
        "\n",
        "Format\n",
        "A data frame with 900 observations on the following 6 variables.\n",
        "\n",
        "Opening\n",
        "the amount of clearance around the mounting pad (3 levels)\n",
        "\n",
        "Solder\n",
        "the amount of solder (Thick or Thin)\n",
        "\n",
        "Mask\n",
        "type and thickness of the material used for the solder mask (A1.5, A3, A6, B3, B6)\n",
        "\n",
        "PadType\n",
        "the geometry and size of the mounting pad (10 levels)\n",
        "\n",
        "Panel\n",
        "each board was divided into 3 panels\n",
        "\n",
        "skips\n",
        "the number of skips\n",
        "\n",
        "Details\n",
        "This data set is used as a detailed example in chapter 1 of Chambers and Hastie. Observations 1-360 and 541-900 form a balanced design of 3*2*10*3= 180 observations\n",
        "for four of the pad types (A1.5, A3, B3, B6), while rows 361-540 match 3 of the 6 Solder*Opening combinations with pad type A6 and the other 3 with pad type A3.\n",
        "\n",
        "References\n",
        "J Chambers and T Hastie, Statistical models in S. Chapman and Hall, 1993.\n",
        "\n",
        "Examples\n",
        "data(solder)\n",
        " The balanced subset used by Chambers and Hastie\n",
        " contains the first 180 of each mask and deletes mask A6.\n",
        "index <- 1 + (1:nrow(solder)) - match(solder$Mask, solder$Mask)\n",
        "solder.balance <- droplevels(subset(solder, Mask != \"A6\"\n",
        "\n"
      ]
    },
    {
      "cell_type": "code",
      "metadata": {
        "colab": {
          "base_uri": "https://localhost:8080/",
          "height": 206
        },
        "id": "ABa6LoBOg2OO",
        "outputId": "9975b214-6bf1-406b-e36f-d46a4fef2c30"
      },
      "source": [
        "data=pd.read_csv('solder.csv')\n",
        "data.head()"
      ],
      "execution_count": null,
      "outputs": [
        {
          "output_type": "execute_result",
          "data": {
            "text/html": [
              "<div>\n",
              "<style scoped>\n",
              "    .dataframe tbody tr th:only-of-type {\n",
              "        vertical-align: middle;\n",
              "    }\n",
              "\n",
              "    .dataframe tbody tr th {\n",
              "        vertical-align: top;\n",
              "    }\n",
              "\n",
              "    .dataframe thead th {\n",
              "        text-align: right;\n",
              "    }\n",
              "</style>\n",
              "<table border=\"1\" class=\"dataframe\">\n",
              "  <thead>\n",
              "    <tr style=\"text-align: right;\">\n",
              "      <th></th>\n",
              "      <th>Opening</th>\n",
              "      <th>Solder</th>\n",
              "      <th>Mask</th>\n",
              "      <th>PadType</th>\n",
              "      <th>Panel</th>\n",
              "      <th>skips</th>\n",
              "    </tr>\n",
              "  </thead>\n",
              "  <tbody>\n",
              "    <tr>\n",
              "      <th>0</th>\n",
              "      <td>L</td>\n",
              "      <td>Thick</td>\n",
              "      <td>A1.5</td>\n",
              "      <td>W4</td>\n",
              "      <td>1</td>\n",
              "      <td>0</td>\n",
              "    </tr>\n",
              "    <tr>\n",
              "      <th>1</th>\n",
              "      <td>L</td>\n",
              "      <td>Thick</td>\n",
              "      <td>A1.5</td>\n",
              "      <td>W4</td>\n",
              "      <td>2</td>\n",
              "      <td>0</td>\n",
              "    </tr>\n",
              "    <tr>\n",
              "      <th>2</th>\n",
              "      <td>L</td>\n",
              "      <td>Thick</td>\n",
              "      <td>A1.5</td>\n",
              "      <td>W4</td>\n",
              "      <td>3</td>\n",
              "      <td>0</td>\n",
              "    </tr>\n",
              "    <tr>\n",
              "      <th>3</th>\n",
              "      <td>L</td>\n",
              "      <td>Thick</td>\n",
              "      <td>A1.5</td>\n",
              "      <td>D4</td>\n",
              "      <td>1</td>\n",
              "      <td>0</td>\n",
              "    </tr>\n",
              "    <tr>\n",
              "      <th>4</th>\n",
              "      <td>L</td>\n",
              "      <td>Thick</td>\n",
              "      <td>A1.5</td>\n",
              "      <td>D4</td>\n",
              "      <td>2</td>\n",
              "      <td>0</td>\n",
              "    </tr>\n",
              "  </tbody>\n",
              "</table>\n",
              "</div>"
            ],
            "text/plain": [
              "  Opening Solder  Mask PadType  Panel  skips\n",
              "0       L  Thick  A1.5      W4      1      0\n",
              "1       L  Thick  A1.5      W4      2      0\n",
              "2       L  Thick  A1.5      W4      3      0\n",
              "3       L  Thick  A1.5      D4      1      0\n",
              "4       L  Thick  A1.5      D4      2      0"
            ]
          },
          "metadata": {},
          "execution_count": 4
        }
      ]
    },
    {
      "cell_type": "code",
      "metadata": {
        "colab": {
          "base_uri": "https://localhost:8080/"
        },
        "id": "UipcLpKEkH1s",
        "outputId": "a1a422b8-59d8-4f45-f214-857c925179fe"
      },
      "source": [
        "#DATA WRANGLING\n",
        "data.isna().sum()"
      ],
      "execution_count": null,
      "outputs": [
        {
          "output_type": "execute_result",
          "data": {
            "text/plain": [
              "Opening    0\n",
              "Solder     0\n",
              "Mask       0\n",
              "PadType    0\n",
              "Panel      0\n",
              "skips      0\n",
              "dtype: int64"
            ]
          },
          "metadata": {},
          "execution_count": 5
        }
      ]
    },
    {
      "cell_type": "code",
      "metadata": {
        "colab": {
          "base_uri": "https://localhost:8080/"
        },
        "id": "PgQZyF7gkMnK",
        "outputId": "213a109f-dbc0-46f6-f697-6587b55ec6a9"
      },
      "source": [
        "data.Solder.value_counts()"
      ],
      "execution_count": null,
      "outputs": [
        {
          "output_type": "execute_result",
          "data": {
            "text/plain": [
              "Thick    450\n",
              "Thin     450\n",
              "Name: Solder, dtype: int64"
            ]
          },
          "metadata": {},
          "execution_count": 6
        }
      ]
    },
    {
      "cell_type": "code",
      "metadata": {
        "id": "KNXpHTfrkMqL"
      },
      "source": [
        "\n",
        "data['new_solder']=pd.get_dummies(data.Solder, drop_first=True)"
      ],
      "execution_count": null,
      "outputs": []
    },
    {
      "cell_type": "code",
      "metadata": {
        "colab": {
          "base_uri": "https://localhost:8080/",
          "height": 174
        },
        "id": "DxxTSzsakMtF",
        "outputId": "ab3c8f6b-b1e7-4992-9ba3-666caa6bd812"
      },
      "source": [
        "data.sample(4) #0= thick and 1 =thin"
      ],
      "execution_count": null,
      "outputs": [
        {
          "output_type": "execute_result",
          "data": {
            "text/html": [
              "<div>\n",
              "<style scoped>\n",
              "    .dataframe tbody tr th:only-of-type {\n",
              "        vertical-align: middle;\n",
              "    }\n",
              "\n",
              "    .dataframe tbody tr th {\n",
              "        vertical-align: top;\n",
              "    }\n",
              "\n",
              "    .dataframe thead th {\n",
              "        text-align: right;\n",
              "    }\n",
              "</style>\n",
              "<table border=\"1\" class=\"dataframe\">\n",
              "  <thead>\n",
              "    <tr style=\"text-align: right;\">\n",
              "      <th></th>\n",
              "      <th>Opening</th>\n",
              "      <th>Solder</th>\n",
              "      <th>Mask</th>\n",
              "      <th>PadType</th>\n",
              "      <th>Panel</th>\n",
              "      <th>skips</th>\n",
              "      <th>new_solder</th>\n",
              "    </tr>\n",
              "  </thead>\n",
              "  <tbody>\n",
              "    <tr>\n",
              "      <th>868</th>\n",
              "      <td>M</td>\n",
              "      <td>Thin</td>\n",
              "      <td>B6</td>\n",
              "      <td>L9</td>\n",
              "      <td>2</td>\n",
              "      <td>8</td>\n",
              "      <td>1</td>\n",
              "    </tr>\n",
              "    <tr>\n",
              "      <th>636</th>\n",
              "      <td>L</td>\n",
              "      <td>Thin</td>\n",
              "      <td>B3</td>\n",
              "      <td>L4</td>\n",
              "      <td>1</td>\n",
              "      <td>3</td>\n",
              "      <td>1</td>\n",
              "    </tr>\n",
              "    <tr>\n",
              "      <th>798</th>\n",
              "      <td>S</td>\n",
              "      <td>Thick</td>\n",
              "      <td>B6</td>\n",
              "      <td>L7</td>\n",
              "      <td>1</td>\n",
              "      <td>13</td>\n",
              "      <td>0</td>\n",
              "    </tr>\n",
              "    <tr>\n",
              "      <th>626</th>\n",
              "      <td>S</td>\n",
              "      <td>Thick</td>\n",
              "      <td>B3</td>\n",
              "      <td>W9</td>\n",
              "      <td>3</td>\n",
              "      <td>1</td>\n",
              "      <td>0</td>\n",
              "    </tr>\n",
              "  </tbody>\n",
              "</table>\n",
              "</div>"
            ],
            "text/plain": [
              "    Opening Solder Mask PadType  Panel  skips  new_solder\n",
              "868       M   Thin   B6      L9      2      8           1\n",
              "636       L   Thin   B3      L4      1      3           1\n",
              "798       S  Thick   B6      L7      1     13           0\n",
              "626       S  Thick   B3      W9      3      1           0"
            ]
          },
          "metadata": {},
          "execution_count": 8
        }
      ]
    },
    {
      "cell_type": "code",
      "metadata": {
        "colab": {
          "base_uri": "https://localhost:8080/"
        },
        "id": "Lzuu9XWkkMvy",
        "outputId": "7dbc063d-af20-410b-9c13-5f41cdd4c6d2"
      },
      "source": [
        "data.Mask.value_counts()"
      ],
      "execution_count": null,
      "outputs": [
        {
          "output_type": "execute_result",
          "data": {
            "text/plain": [
              "A3      270\n",
              "B6      180\n",
              "B3      180\n",
              "A1.5    180\n",
              "A6       90\n",
              "Name: Mask, dtype: int64"
            ]
          },
          "metadata": {},
          "execution_count": 9
        }
      ]
    },
    {
      "cell_type": "code",
      "metadata": {
        "colab": {
          "base_uri": "https://localhost:8080/"
        },
        "id": "5-ApMtV2kMzb",
        "outputId": "bfc67da5-0bae-4d50-ab0d-359ac754330f"
      },
      "source": [
        "data.Opening.value_counts()"
      ],
      "execution_count": null,
      "outputs": [
        {
          "output_type": "execute_result",
          "data": {
            "text/plain": [
              "S    300\n",
              "M    300\n",
              "L    300\n",
              "Name: Opening, dtype: int64"
            ]
          },
          "metadata": {},
          "execution_count": 10
        }
      ]
    },
    {
      "cell_type": "code",
      "metadata": {
        "colab": {
          "base_uri": "https://localhost:8080/"
        },
        "id": "curHimpjkH5h",
        "outputId": "48c2814e-e9b8-485d-bdff-e519dd05c0b8"
      },
      "source": [
        "data.PadType.value_counts()"
      ],
      "execution_count": null,
      "outputs": [
        {
          "output_type": "execute_result",
          "data": {
            "text/plain": [
              "L7    90\n",
              "L8    90\n",
              "W4    90\n",
              "D7    90\n",
              "W9    90\n",
              "L9    90\n",
              "D4    90\n",
              "L6    90\n",
              "L4    90\n",
              "D6    90\n",
              "Name: PadType, dtype: int64"
            ]
          },
          "metadata": {},
          "execution_count": 11
        }
      ]
    },
    {
      "cell_type": "code",
      "metadata": {
        "id": "fxUNuYnNkH8R"
      },
      "source": [
        "from sklearn.preprocessing import LabelEncoder\n",
        "lab_enc= LabelEncoder()"
      ],
      "execution_count": null,
      "outputs": []
    },
    {
      "cell_type": "code",
      "metadata": {
        "id": "58-Zc2tskH_J"
      },
      "source": [
        "data['new_mask']=lab_enc.fit_transform(data.Mask)"
      ],
      "execution_count": null,
      "outputs": []
    },
    {
      "cell_type": "code",
      "metadata": {
        "colab": {
          "base_uri": "https://localhost:8080/",
          "height": 143
        },
        "id": "aK-KSLM3naPV",
        "outputId": "cf9590d2-7b48-402e-bc2e-2a94af6e205b"
      },
      "source": [
        "data.sample(3)"
      ],
      "execution_count": null,
      "outputs": [
        {
          "output_type": "execute_result",
          "data": {
            "text/html": [
              "<div>\n",
              "<style scoped>\n",
              "    .dataframe tbody tr th:only-of-type {\n",
              "        vertical-align: middle;\n",
              "    }\n",
              "\n",
              "    .dataframe tbody tr th {\n",
              "        vertical-align: top;\n",
              "    }\n",
              "\n",
              "    .dataframe thead th {\n",
              "        text-align: right;\n",
              "    }\n",
              "</style>\n",
              "<table border=\"1\" class=\"dataframe\">\n",
              "  <thead>\n",
              "    <tr style=\"text-align: right;\">\n",
              "      <th></th>\n",
              "      <th>Opening</th>\n",
              "      <th>Solder</th>\n",
              "      <th>Mask</th>\n",
              "      <th>PadType</th>\n",
              "      <th>Panel</th>\n",
              "      <th>skips</th>\n",
              "      <th>new_solder</th>\n",
              "      <th>new_mask</th>\n",
              "    </tr>\n",
              "  </thead>\n",
              "  <tbody>\n",
              "    <tr>\n",
              "      <th>840</th>\n",
              "      <td>M</td>\n",
              "      <td>Thin</td>\n",
              "      <td>B6</td>\n",
              "      <td>W4</td>\n",
              "      <td>1</td>\n",
              "      <td>5</td>\n",
              "      <td>1</td>\n",
              "      <td>4</td>\n",
              "    </tr>\n",
              "    <tr>\n",
              "      <th>42</th>\n",
              "      <td>M</td>\n",
              "      <td>Thick</td>\n",
              "      <td>A1.5</td>\n",
              "      <td>L6</td>\n",
              "      <td>1</td>\n",
              "      <td>0</td>\n",
              "      <td>0</td>\n",
              "      <td>0</td>\n",
              "    </tr>\n",
              "    <tr>\n",
              "      <th>624</th>\n",
              "      <td>S</td>\n",
              "      <td>Thick</td>\n",
              "      <td>B3</td>\n",
              "      <td>W9</td>\n",
              "      <td>1</td>\n",
              "      <td>2</td>\n",
              "      <td>0</td>\n",
              "      <td>3</td>\n",
              "    </tr>\n",
              "  </tbody>\n",
              "</table>\n",
              "</div>"
            ],
            "text/plain": [
              "    Opening Solder  Mask PadType  Panel  skips  new_solder  new_mask\n",
              "840       M   Thin    B6      W4      1      5           1         4\n",
              "42        M  Thick  A1.5      L6      1      0           0         0\n",
              "624       S  Thick    B3      W9      1      2           0         3"
            ]
          },
          "metadata": {},
          "execution_count": 14
        }
      ]
    },
    {
      "cell_type": "code",
      "metadata": {
        "colab": {
          "base_uri": "https://localhost:8080/",
          "height": 143
        },
        "id": "o2objhRJnaSk",
        "outputId": "151f9afe-268a-49c6-831e-1906badeba6e"
      },
      "source": [
        "data['new_opening']=lab_enc.fit_transform(data.Opening)\n",
        "data.sample(3)"
      ],
      "execution_count": null,
      "outputs": [
        {
          "output_type": "execute_result",
          "data": {
            "text/html": [
              "<div>\n",
              "<style scoped>\n",
              "    .dataframe tbody tr th:only-of-type {\n",
              "        vertical-align: middle;\n",
              "    }\n",
              "\n",
              "    .dataframe tbody tr th {\n",
              "        vertical-align: top;\n",
              "    }\n",
              "\n",
              "    .dataframe thead th {\n",
              "        text-align: right;\n",
              "    }\n",
              "</style>\n",
              "<table border=\"1\" class=\"dataframe\">\n",
              "  <thead>\n",
              "    <tr style=\"text-align: right;\">\n",
              "      <th></th>\n",
              "      <th>Opening</th>\n",
              "      <th>Solder</th>\n",
              "      <th>Mask</th>\n",
              "      <th>PadType</th>\n",
              "      <th>Panel</th>\n",
              "      <th>skips</th>\n",
              "      <th>new_solder</th>\n",
              "      <th>new_mask</th>\n",
              "      <th>new_opening</th>\n",
              "    </tr>\n",
              "  </thead>\n",
              "  <tbody>\n",
              "    <tr>\n",
              "      <th>454</th>\n",
              "      <td>L</td>\n",
              "      <td>Thin</td>\n",
              "      <td>A3</td>\n",
              "      <td>D4</td>\n",
              "      <td>2</td>\n",
              "      <td>7</td>\n",
              "      <td>1</td>\n",
              "      <td>1</td>\n",
              "      <td>0</td>\n",
              "    </tr>\n",
              "    <tr>\n",
              "      <th>281</th>\n",
              "      <td>L</td>\n",
              "      <td>Thin</td>\n",
              "      <td>A3</td>\n",
              "      <td>D6</td>\n",
              "      <td>3</td>\n",
              "      <td>2</td>\n",
              "      <td>1</td>\n",
              "      <td>1</td>\n",
              "      <td>0</td>\n",
              "    </tr>\n",
              "    <tr>\n",
              "      <th>244</th>\n",
              "      <td>S</td>\n",
              "      <td>Thick</td>\n",
              "      <td>A3</td>\n",
              "      <td>D4</td>\n",
              "      <td>2</td>\n",
              "      <td>1</td>\n",
              "      <td>0</td>\n",
              "      <td>1</td>\n",
              "      <td>2</td>\n",
              "    </tr>\n",
              "  </tbody>\n",
              "</table>\n",
              "</div>"
            ],
            "text/plain": [
              "    Opening Solder Mask PadType  ...  skips  new_solder  new_mask  new_opening\n",
              "454       L   Thin   A3      D4  ...      7           1         1            0\n",
              "281       L   Thin   A3      D6  ...      2           1         1            0\n",
              "244       S  Thick   A3      D4  ...      1           0         1            2\n",
              "\n",
              "[3 rows x 9 columns]"
            ]
          },
          "metadata": {},
          "execution_count": 15
        }
      ]
    },
    {
      "cell_type": "code",
      "metadata": {
        "colab": {
          "base_uri": "https://localhost:8080/",
          "height": 143
        },
        "id": "-Q_gEU08naV8",
        "outputId": "44ded27c-e894-4e5a-b5e7-24097b24d8cb"
      },
      "source": [
        "data['new_padtype']=lab_enc.fit_transform(data.PadType)\n",
        "data.sample(3)"
      ],
      "execution_count": null,
      "outputs": [
        {
          "output_type": "execute_result",
          "data": {
            "text/html": [
              "<div>\n",
              "<style scoped>\n",
              "    .dataframe tbody tr th:only-of-type {\n",
              "        vertical-align: middle;\n",
              "    }\n",
              "\n",
              "    .dataframe tbody tr th {\n",
              "        vertical-align: top;\n",
              "    }\n",
              "\n",
              "    .dataframe thead th {\n",
              "        text-align: right;\n",
              "    }\n",
              "</style>\n",
              "<table border=\"1\" class=\"dataframe\">\n",
              "  <thead>\n",
              "    <tr style=\"text-align: right;\">\n",
              "      <th></th>\n",
              "      <th>Opening</th>\n",
              "      <th>Solder</th>\n",
              "      <th>Mask</th>\n",
              "      <th>PadType</th>\n",
              "      <th>Panel</th>\n",
              "      <th>skips</th>\n",
              "      <th>new_solder</th>\n",
              "      <th>new_mask</th>\n",
              "      <th>new_opening</th>\n",
              "      <th>new_padtype</th>\n",
              "    </tr>\n",
              "  </thead>\n",
              "  <tbody>\n",
              "    <tr>\n",
              "      <th>272</th>\n",
              "      <td>L</td>\n",
              "      <td>Thin</td>\n",
              "      <td>A3</td>\n",
              "      <td>W4</td>\n",
              "      <td>3</td>\n",
              "      <td>2</td>\n",
              "      <td>1</td>\n",
              "      <td>1</td>\n",
              "      <td>0</td>\n",
              "      <td>8</td>\n",
              "    </tr>\n",
              "    <tr>\n",
              "      <th>849</th>\n",
              "      <td>M</td>\n",
              "      <td>Thin</td>\n",
              "      <td>B6</td>\n",
              "      <td>D6</td>\n",
              "      <td>1</td>\n",
              "      <td>3</td>\n",
              "      <td>1</td>\n",
              "      <td>4</td>\n",
              "      <td>1</td>\n",
              "      <td>1</td>\n",
              "    </tr>\n",
              "    <tr>\n",
              "      <th>838</th>\n",
              "      <td>L</td>\n",
              "      <td>Thin</td>\n",
              "      <td>B6</td>\n",
              "      <td>L9</td>\n",
              "      <td>2</td>\n",
              "      <td>8</td>\n",
              "      <td>1</td>\n",
              "      <td>4</td>\n",
              "      <td>0</td>\n",
              "      <td>7</td>\n",
              "    </tr>\n",
              "  </tbody>\n",
              "</table>\n",
              "</div>"
            ],
            "text/plain": [
              "    Opening Solder Mask PadType  ...  new_solder  new_mask  new_opening  new_padtype\n",
              "272       L   Thin   A3      W4  ...           1         1            0            8\n",
              "849       M   Thin   B6      D6  ...           1         4            1            1\n",
              "838       L   Thin   B6      L9  ...           1         4            0            7\n",
              "\n",
              "[3 rows x 10 columns]"
            ]
          },
          "metadata": {},
          "execution_count": 16
        }
      ]
    },
    {
      "cell_type": "code",
      "metadata": {
        "colab": {
          "base_uri": "https://localhost:8080/",
          "height": 143
        },
        "id": "TdZg4mAVnabX",
        "outputId": "73183459-7ddf-4f51-cfd3-5f1dd3a49c53"
      },
      "source": [
        "new_data= data.drop(columns=['Opening', 'Solder', 'Mask','PadType'])\n",
        "new_data.sample(3)"
      ],
      "execution_count": null,
      "outputs": [
        {
          "output_type": "execute_result",
          "data": {
            "text/html": [
              "<div>\n",
              "<style scoped>\n",
              "    .dataframe tbody tr th:only-of-type {\n",
              "        vertical-align: middle;\n",
              "    }\n",
              "\n",
              "    .dataframe tbody tr th {\n",
              "        vertical-align: top;\n",
              "    }\n",
              "\n",
              "    .dataframe thead th {\n",
              "        text-align: right;\n",
              "    }\n",
              "</style>\n",
              "<table border=\"1\" class=\"dataframe\">\n",
              "  <thead>\n",
              "    <tr style=\"text-align: right;\">\n",
              "      <th></th>\n",
              "      <th>Panel</th>\n",
              "      <th>skips</th>\n",
              "      <th>new_solder</th>\n",
              "      <th>new_mask</th>\n",
              "      <th>new_opening</th>\n",
              "      <th>new_padtype</th>\n",
              "    </tr>\n",
              "  </thead>\n",
              "  <tbody>\n",
              "    <tr>\n",
              "      <th>689</th>\n",
              "      <td>3</td>\n",
              "      <td>4</td>\n",
              "      <td>1</td>\n",
              "      <td>3</td>\n",
              "      <td>1</td>\n",
              "      <td>7</td>\n",
              "    </tr>\n",
              "    <tr>\n",
              "      <th>161</th>\n",
              "      <td>3</td>\n",
              "      <td>6</td>\n",
              "      <td>1</td>\n",
              "      <td>0</td>\n",
              "      <td>2</td>\n",
              "      <td>1</td>\n",
              "    </tr>\n",
              "    <tr>\n",
              "      <th>247</th>\n",
              "      <td>2</td>\n",
              "      <td>3</td>\n",
              "      <td>0</td>\n",
              "      <td>1</td>\n",
              "      <td>2</td>\n",
              "      <td>3</td>\n",
              "    </tr>\n",
              "  </tbody>\n",
              "</table>\n",
              "</div>"
            ],
            "text/plain": [
              "     Panel  skips  new_solder  new_mask  new_opening  new_padtype\n",
              "689      3      4           1         3            1            7\n",
              "161      3      6           1         0            2            1\n",
              "247      2      3           0         1            2            3"
            ]
          },
          "metadata": {},
          "execution_count": 17
        }
      ]
    },
    {
      "cell_type": "code",
      "metadata": {
        "colab": {
          "base_uri": "https://localhost:8080/"
        },
        "id": "gZJMZZlUpmNV",
        "outputId": "0804e7ac-d419-42b3-8a8c-d26a287a2cca"
      },
      "source": [
        "#main focus is solder and panel\n",
        "new_data.Panel.value_counts()"
      ],
      "execution_count": null,
      "outputs": [
        {
          "output_type": "execute_result",
          "data": {
            "text/plain": [
              "3    300\n",
              "2    300\n",
              "1    300\n",
              "Name: Panel, dtype: int64"
            ]
          },
          "metadata": {},
          "execution_count": 18
        }
      ]
    },
    {
      "cell_type": "code",
      "metadata": {
        "id": "LzSlkwhzpmUr",
        "colab": {
          "base_uri": "https://localhost:8080/"
        },
        "outputId": "c2bc39e1-6f47-4fd7-af1e-2de7de8ceb62"
      },
      "source": [
        "new_data.new_solder.value_counts()"
      ],
      "execution_count": null,
      "outputs": [
        {
          "output_type": "execute_result",
          "data": {
            "text/plain": [
              "1    450\n",
              "0    450\n",
              "Name: new_solder, dtype: int64"
            ]
          },
          "metadata": {},
          "execution_count": 19
        }
      ]
    },
    {
      "cell_type": "markdown",
      "metadata": {
        "id": "vUkD8tk_Dsxt"
      },
      "source": [
        "Kaplan Meier"
      ]
    },
    {
      "cell_type": "code",
      "metadata": {
        "id": "9buRZQePpmYj"
      },
      "source": [
        "from lifelines import KaplanMeierFitter\n",
        "model=KaplanMeierFitter()"
      ],
      "execution_count": null,
      "outputs": []
    },
    {
      "cell_type": "code",
      "metadata": {
        "colab": {
          "base_uri": "https://localhost:8080/"
        },
        "id": "Mj_OKdXvHa4K",
        "outputId": "3881367f-3bbf-4d1a-dca1-85e2a3920614"
      },
      "source": [
        "model.fit(durations=new_data.skips, event_observed=new_data.new_solder)"
      ],
      "execution_count": null,
      "outputs": [
        {
          "output_type": "execute_result",
          "data": {
            "text/plain": [
              "<lifelines.KaplanMeierFitter:\"KM_estimate\", fitted with 900 total observations, 450 right-censored observations>"
            ]
          },
          "metadata": {},
          "execution_count": 35
        }
      ]
    },
    {
      "cell_type": "code",
      "metadata": {
        "colab": {
          "base_uri": "https://localhost:8080/",
          "height": 237
        },
        "id": "tFdILlEuHa9G",
        "outputId": "9e611491-58ee-4a02-9cb5-e7c8f3b17b74"
      },
      "source": [
        "model.event_table.head()"
      ],
      "execution_count": null,
      "outputs": [
        {
          "output_type": "execute_result",
          "data": {
            "text/html": [
              "<div>\n",
              "<style scoped>\n",
              "    .dataframe tbody tr th:only-of-type {\n",
              "        vertical-align: middle;\n",
              "    }\n",
              "\n",
              "    .dataframe tbody tr th {\n",
              "        vertical-align: top;\n",
              "    }\n",
              "\n",
              "    .dataframe thead th {\n",
              "        text-align: right;\n",
              "    }\n",
              "</style>\n",
              "<table border=\"1\" class=\"dataframe\">\n",
              "  <thead>\n",
              "    <tr style=\"text-align: right;\">\n",
              "      <th></th>\n",
              "      <th>removed</th>\n",
              "      <th>observed</th>\n",
              "      <th>censored</th>\n",
              "      <th>entrance</th>\n",
              "      <th>at_risk</th>\n",
              "    </tr>\n",
              "    <tr>\n",
              "      <th>event_at</th>\n",
              "      <th></th>\n",
              "      <th></th>\n",
              "      <th></th>\n",
              "      <th></th>\n",
              "      <th></th>\n",
              "    </tr>\n",
              "  </thead>\n",
              "  <tbody>\n",
              "    <tr>\n",
              "      <th>0</th>\n",
              "      <td>285</td>\n",
              "      <td>82</td>\n",
              "      <td>203</td>\n",
              "      <td>900</td>\n",
              "      <td>900</td>\n",
              "    </tr>\n",
              "    <tr>\n",
              "      <th>1</th>\n",
              "      <td>123</td>\n",
              "      <td>54</td>\n",
              "      <td>69</td>\n",
              "      <td>0</td>\n",
              "      <td>615</td>\n",
              "    </tr>\n",
              "    <tr>\n",
              "      <th>2</th>\n",
              "      <td>90</td>\n",
              "      <td>43</td>\n",
              "      <td>47</td>\n",
              "      <td>0</td>\n",
              "      <td>492</td>\n",
              "    </tr>\n",
              "    <tr>\n",
              "      <th>3</th>\n",
              "      <td>45</td>\n",
              "      <td>29</td>\n",
              "      <td>16</td>\n",
              "      <td>0</td>\n",
              "      <td>402</td>\n",
              "    </tr>\n",
              "    <tr>\n",
              "      <th>4</th>\n",
              "      <td>42</td>\n",
              "      <td>28</td>\n",
              "      <td>14</td>\n",
              "      <td>0</td>\n",
              "      <td>357</td>\n",
              "    </tr>\n",
              "  </tbody>\n",
              "</table>\n",
              "</div>"
            ],
            "text/plain": [
              "          removed  observed  censored  entrance  at_risk\n",
              "event_at                                                \n",
              "0             285        82       203       900      900\n",
              "1             123        54        69         0      615\n",
              "2              90        43        47         0      492\n",
              "3              45        29        16         0      402\n",
              "4              42        28        14         0      357"
            ]
          },
          "metadata": {},
          "execution_count": 37
        }
      ]
    },
    {
      "cell_type": "code",
      "metadata": {
        "colab": {
          "base_uri": "https://localhost:8080/"
        },
        "id": "gp2J47PnHbBv",
        "outputId": "ea398f3e-6f9d-4540-a84e-16ce29ca7e75"
      },
      "source": [
        "event_1= model.event_table.iloc[1, :]\n",
        "event_1"
      ],
      "execution_count": null,
      "outputs": [
        {
          "output_type": "execute_result",
          "data": {
            "text/plain": [
              "removed     123\n",
              "observed     54\n",
              "censored     69\n",
              "entrance      0\n",
              "at_risk     615\n",
              "Name: 1, dtype: int64"
            ]
          },
          "metadata": {},
          "execution_count": 38
        }
      ]
    },
    {
      "cell_type": "code",
      "metadata": {
        "id": "5cFh3ZZvJJrU"
      },
      "source": [
        ""
      ],
      "execution_count": null,
      "outputs": []
    },
    {
      "cell_type": "code",
      "metadata": {
        "colab": {
          "base_uri": "https://localhost:8080/"
        },
        "id": "e1nMmV50JJvd",
        "outputId": "7c239ac5-8a1b-432a-e50b-1bb3bee2921b"
      },
      "source": [
        "surv_1=1 *(1-event_1.observed/event_1.at_risk)\n",
        "surv_1"
      ],
      "execution_count": null,
      "outputs": [
        {
          "output_type": "execute_result",
          "data": {
            "text/plain": [
              "0.9121951219512195"
            ]
          },
          "metadata": {},
          "execution_count": 39
        }
      ]
    },
    {
      "cell_type": "markdown",
      "metadata": {
        "id": "6I252LkkKIFi"
      },
      "source": [
        "Visualizing"
      ]
    },
    {
      "cell_type": "code",
      "metadata": {
        "id": "697Te2nbKMSg"
      },
      "source": [
        "import matplotlib.pyplot as plt\n"
      ],
      "execution_count": null,
      "outputs": []
    },
    {
      "cell_type": "code",
      "metadata": {
        "colab": {
          "base_uri": "https://localhost:8080/",
          "height": 368
        },
        "id": "qYH4xcRCKMeP",
        "outputId": "5252d4d5-e4e2-45f8-e7aa-b253973b6ed7"
      },
      "source": [
        "model.plot(figsize = (12,5))\n",
        "plt.title(\"Kaplan Meier Estiamtor\")\n",
        "plt.ylabel('Probability of survival')"
      ],
      "execution_count": null,
      "outputs": [
        {
          "output_type": "execute_result",
          "data": {
            "text/plain": [
              "Text(0, 0.5, 'Probability of survival')"
            ]
          },
          "metadata": {},
          "execution_count": 72
        },
        {
          "output_type": "display_data",
          "data": {
            "image/png": "[encoded data removed]",
            "text/plain": [
              "<Figure size 864x360 with 1 Axes>"
            ]
          },
          "metadata": {
            "needs_background": "light"
          }
        }
      ]
    },
    {
      "cell_type": "code",
      "metadata": {
        "id": "YDGYLRTVMNOA"
      },
      "source": [
        "\n",
        "\n",
        "\n",
        "first_panel=new_data.query('Panel==1')\n",
        "sec_panel=new_data.query('Panel==2')\n",
        "th_panel=new_data.query('Panel==3')"
      ],
      "execution_count": null,
      "outputs": []
    },
    {
      "cell_type": "code",
      "metadata": {
        "colab": {
          "base_uri": "https://localhost:8080/"
        },
        "id": "4qAZu_K1MNad",
        "outputId": "f02683ff-29ba-432e-b23b-6b015374fd9a"
      },
      "source": [
        "first=KaplanMeierFitter()\n",
        "sec=KaplanMeierFitter()\n",
        "th=KaplanMeierFitter()\n",
        "\n",
        "first.fit(durations=first_panel.skips, event_observed=first_panel.new_solder)\n",
        "sec.fit(durations=sec_panel.skips, event_observed=sec_panel.new_solder)\n",
        "th.fit(durations=th_panel.skips, event_observed=th_panel.new_solder)"
      ],
      "execution_count": null,
      "outputs": [
        {
          "output_type": "execute_result",
          "data": {
            "text/plain": [
              "<lifelines.KaplanMeierFitter:\"KM_estimate\", fitted with 300 total observations, 150 right-censored observations>"
            ]
          },
          "metadata": {},
          "execution_count": 59
        }
      ]
    },
    {
      "cell_type": "code",
      "metadata": {
        "colab": {
          "base_uri": "https://localhost:8080/",
          "height": 406
        },
        "id": "mBWyS9cEMNdm",
        "outputId": "e8fddff9-2cc1-43cf-890e-79a7cd8406d2"
      },
      "source": [
        "first.plot(figsize=(14,6), label= \"first panel\")\n",
        "sec.plot(label= 'second panel')\n",
        "th.plot(label='third panel')"
      ],
      "execution_count": null,
      "outputs": [
        {
          "output_type": "execute_result",
          "data": {
            "text/plain": [
              "<matplotlib.axes._subplots.AxesSubplot at 0x7fd26b084250>"
            ]
          },
          "metadata": {},
          "execution_count": 71
        },
        {
          "output_type": "display_data",
          "data": {
            "image/png": "[encoded data removed]",
            "text/plain": [
              "<Figure size 1008x432 with 1 Axes>"
            ]
          },
          "metadata": {
            "needs_background": "light"
          }
        }
      ]
    },
    {
      "cell_type": "markdown",
      "metadata": {
        "id": "7EdqspsvQ76g"
      },
      "source": [
        "#Log rank test"
      ]
    },
    {
      "cell_type": "code",
      "metadata": {
        "colab": {
          "base_uri": "https://localhost:8080/",
          "height": 206
        },
        "id": "dHWXLg-OQh9U",
        "outputId": "48ae9d20-70e7-459b-caee-5dabf53658bb"
      },
      "source": [
        "from lifelines.statistics import multivariate_logrank_test\n",
        "multivariate_logrank_test(new_data.skips,new_data.Panel,new_data.new_solder)"
      ],
      "execution_count": null,
      "outputs": [
        {
          "output_type": "execute_result",
          "data": {
            "text/latex": "\\begin{tabular}{lrrr}\n\\toprule\n{} &  test\\_statistic &         p &  -log2(p) \\\\\n\\midrule\n0 &        6.835071 &  0.032793 &  4.930461 \\\\\n\\bottomrule\n\\end{tabular}\n",
            "text/html": [
              "<div>\n",
              "<style scoped>\n",
              "    .dataframe tbody tr th:only-of-type {\n",
              "        vertical-align: middle;\n",
              "    }\n",
              "\n",
              "    .dataframe tbody tr th {\n",
              "        vertical-align: top;\n",
              "    }\n",
              "\n",
              "    .dataframe thead th {\n",
              "        text-align: right;\n",
              "    }\n",
              "</style>\n",
              "<table border=\"1\" class=\"dataframe\">\n",
              "  <tbody>\n",
              "    <tr>\n",
              "      <th>t_0</th>\n",
              "      <td>-1</td>\n",
              "    </tr>\n",
              "    <tr>\n",
              "      <th>null_distribution</th>\n",
              "      <td>chi squared</td>\n",
              "    </tr>\n",
              "    <tr>\n",
              "      <th>degrees_of_freedom</th>\n",
              "      <td>2</td>\n",
              "    </tr>\n",
              "    <tr>\n",
              "      <th>test_name</th>\n",
              "      <td>multivariate_logrank_test</td>\n",
              "    </tr>\n",
              "  </tbody>\n",
              "</table>\n",
              "</div><table border=\"1\" class=\"dataframe\">\n",
              "  <thead>\n",
              "    <tr style=\"text-align: right;\">\n",
              "      <th></th>\n",
              "      <th>test_statistic</th>\n",
              "      <th>p</th>\n",
              "      <th>-log2(p)</th>\n",
              "    </tr>\n",
              "  </thead>\n",
              "  <tbody>\n",
              "    <tr>\n",
              "      <th>0</th>\n",
              "      <td>6.84</td>\n",
              "      <td>0.03</td>\n",
              "      <td>4.93</td>\n",
              "    </tr>\n",
              "  </tbody>\n",
              "</table>"
            ],
            "text/plain": [
              "<lifelines.StatisticalResult: multivariate_logrank_test>\n",
              "               t_0 = -1\n",
              " null_distribution = chi squared\n",
              "degrees_of_freedom = 2\n",
              "         test_name = multivariate_logrank_test\n",
              "\n",
              "---\n",
              " test_statistic    p  -log2(p)\n",
              "           6.84 0.03      4.93"
            ]
          },
          "metadata": {},
          "execution_count": 73
        }
      ]
    },
    {
      "cell_type": "code",
      "metadata": {
        "id": "KqzTUHJpQiDY"
      },
      "source": [
        ""
      ],
      "execution_count": null,
      "outputs": []
    },
    {
      "cell_type": "code",
      "metadata": {
        "id": "nAw-2y7dQiM8"
      },
      "source": [
        ""
      ],
      "execution_count": null,
      "outputs": []
    }
  ]
}