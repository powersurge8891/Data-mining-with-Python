{
  "nbformat": 4,
  "nbformat_minor": 0,
  "metadata": {
    "colab": {
      "name": "ANALYSING POLICE BIAS WITH CHAID",
      "provenance": [],
      "mount_file_id": "1jbOYiP6lUv2FVKdFx6YIhD-HdlxwnwVN",
      "authorship_tag": "ABX9TyOe2yfFbXF+bIqzOUwFgckK",
      "include_colab_link": true
    },
    "kernelspec": {
      "name": "python3",
      "display_name": "Python 3"
    },
    "language_info": {
      "name": "python"
    }
  },
  "cells": [
    {
      "cell_type": "markdown",
      "metadata": {
        "id": "view-in-github",
        "colab_type": "text"
      },
      "source": [
        "<a href=\"https://colab.research.google.com/github/powersurge8891/Data-mining-with-Python/blob/main/ANALYSING_POLICE_BIAS_WITH_CHAID.ipynb\" target=\"_parent\"><img src=\"https://colab.research.google.com/assets/colab-badge.svg\" alt=\"Open In Colab\"/></a>"
      ]
    },
    {
      "cell_type": "markdown",
      "metadata": {
        "id": "8OaT82QzkbAI"
      },
      "source": [
        "#libraries and data"
      ]
    },
    {
      "cell_type": "code",
      "metadata": {
        "colab": {
          "base_uri": "https://localhost:8080/"
        },
        "id": "755C4QP3heSn",
        "outputId": "2b7c9a1c-9fe2-4e95-b7eb-c07aafb61b57"
      },
      "source": [
        "%cd /content/drive/MyDrive/Data Mining for Business in Python"
      ],
      "execution_count": 1,
      "outputs": [
        {
          "output_type": "stream",
          "name": "stdout",
          "text": [
            "/content/drive/MyDrive/Data Mining for Business in Python\n"
          ]
        }
      ]
    },
    {
      "cell_type": "code",
      "metadata": {
        "id": "vpt5TaKxhw5M"
      },
      "source": [
        "!pip install chaid\n",
        "!pip install orca\n",
        "!pip install graphviz"
      ],
      "execution_count": null,
      "outputs": []
    },
    {
      "cell_type": "code",
      "metadata": {
        "id": "KAK_xvDXiJMD"
      },
      "source": [
        "!pip install plotly>=4.0.0\n",
        "!wget https://github.com/plotly/orca/releases/download/v1.2.1/orca-1.2.1-x86_64.AppImage -O /usr/local/bin/orca\n",
        "!chmod +x /usr/local/bin/orca\n",
        "!apt-get install xvfb libgtk2.0-0 libgconf-2-4"
      ],
      "execution_count": null,
      "outputs": []
    },
    {
      "cell_type": "code",
      "metadata": {
        "colab": {
          "base_uri": "https://localhost:8080/"
        },
        "id": "EyGXA28niSOT",
        "outputId": "cba1a8d8-a659-43c4-a9d6-5999f00f6a84"
      },
      "source": [
        "#import libraries\n",
        "import pandas as pd\n",
        "import statsmodels.api as sm \n",
        "from CHAID import Tree"
      ],
      "execution_count": 4,
      "outputs": [
        {
          "output_type": "stream",
          "name": "stderr",
          "text": [
            "/usr/local/lib/python3.7/dist-packages/statsmodels/tools/_testing.py:19: FutureWarning: pandas.util.testing is deprecated. Use the functions in the public API at pandas.testing instead.\n",
            "  import pandas.util.testing as tm\n"
          ]
        }
      ]
    },
    {
      "cell_type": "code",
      "metadata": {
        "colab": {
          "base_uri": "https://localhost:8080/",
          "height": 400
        },
        "id": "BWX-O_d0iSEW",
        "outputId": "f1d7bfb9-5590-426e-dfbb-a9c3c2f4a65a"
      },
      "source": [
        "#get data\n",
        "data= sm.datasets.get_rdataset(\"MplsStops\",\n",
        "                               package = \"carData\").data \n",
        "data.head()"
      ],
      "execution_count": 5,
      "outputs": [
        {
          "output_type": "execute_result",
          "data": {
            "text/html": [
              "<div>\n",
              "<style scoped>\n",
              "    .dataframe tbody tr th:only-of-type {\n",
              "        vertical-align: middle;\n",
              "    }\n",
              "\n",
              "    .dataframe tbody tr th {\n",
              "        vertical-align: top;\n",
              "    }\n",
              "\n",
              "    .dataframe thead th {\n",
              "        text-align: right;\n",
              "    }\n",
              "</style>\n",
              "<table border=\"1\" class=\"dataframe\">\n",
              "  <thead>\n",
              "    <tr style=\"text-align: right;\">\n",
              "      <th></th>\n",
              "      <th>idNum</th>\n",
              "      <th>date</th>\n",
              "      <th>problem</th>\n",
              "      <th>MDC</th>\n",
              "      <th>citationIssued</th>\n",
              "      <th>personSearch</th>\n",
              "      <th>vehicleSearch</th>\n",
              "      <th>preRace</th>\n",
              "      <th>race</th>\n",
              "      <th>gender</th>\n",
              "      <th>lat</th>\n",
              "      <th>long</th>\n",
              "      <th>policePrecinct</th>\n",
              "      <th>neighborhood</th>\n",
              "    </tr>\n",
              "  </thead>\n",
              "  <tbody>\n",
              "    <tr>\n",
              "      <th>6823</th>\n",
              "      <td>17-000003</td>\n",
              "      <td>2017-01-01 00:00:42</td>\n",
              "      <td>suspicious</td>\n",
              "      <td>MDC</td>\n",
              "      <td>NaN</td>\n",
              "      <td>NO</td>\n",
              "      <td>NO</td>\n",
              "      <td>Unknown</td>\n",
              "      <td>Unknown</td>\n",
              "      <td>Unknown</td>\n",
              "      <td>44.966617</td>\n",
              "      <td>-93.246458</td>\n",
              "      <td>1</td>\n",
              "      <td>Cedar Riverside</td>\n",
              "    </tr>\n",
              "    <tr>\n",
              "      <th>6824</th>\n",
              "      <td>17-000007</td>\n",
              "      <td>2017-01-01 00:03:07</td>\n",
              "      <td>suspicious</td>\n",
              "      <td>MDC</td>\n",
              "      <td>NaN</td>\n",
              "      <td>NO</td>\n",
              "      <td>NO</td>\n",
              "      <td>Unknown</td>\n",
              "      <td>Unknown</td>\n",
              "      <td>Male</td>\n",
              "      <td>44.980450</td>\n",
              "      <td>-93.271340</td>\n",
              "      <td>1</td>\n",
              "      <td>Downtown West</td>\n",
              "    </tr>\n",
              "    <tr>\n",
              "      <th>6825</th>\n",
              "      <td>17-000073</td>\n",
              "      <td>2017-01-01 00:23:15</td>\n",
              "      <td>traffic</td>\n",
              "      <td>MDC</td>\n",
              "      <td>NaN</td>\n",
              "      <td>NO</td>\n",
              "      <td>NO</td>\n",
              "      <td>Unknown</td>\n",
              "      <td>White</td>\n",
              "      <td>Female</td>\n",
              "      <td>44.948350</td>\n",
              "      <td>-93.275380</td>\n",
              "      <td>5</td>\n",
              "      <td>Whittier</td>\n",
              "    </tr>\n",
              "    <tr>\n",
              "      <th>6826</th>\n",
              "      <td>17-000092</td>\n",
              "      <td>2017-01-01 00:33:48</td>\n",
              "      <td>suspicious</td>\n",
              "      <td>MDC</td>\n",
              "      <td>NaN</td>\n",
              "      <td>NO</td>\n",
              "      <td>NO</td>\n",
              "      <td>Unknown</td>\n",
              "      <td>East African</td>\n",
              "      <td>Male</td>\n",
              "      <td>44.948360</td>\n",
              "      <td>-93.281350</td>\n",
              "      <td>5</td>\n",
              "      <td>Whittier</td>\n",
              "    </tr>\n",
              "    <tr>\n",
              "      <th>6827</th>\n",
              "      <td>17-000098</td>\n",
              "      <td>2017-01-01 00:37:58</td>\n",
              "      <td>traffic</td>\n",
              "      <td>MDC</td>\n",
              "      <td>NaN</td>\n",
              "      <td>NO</td>\n",
              "      <td>NO</td>\n",
              "      <td>Unknown</td>\n",
              "      <td>White</td>\n",
              "      <td>Female</td>\n",
              "      <td>44.979078</td>\n",
              "      <td>-93.262076</td>\n",
              "      <td>1</td>\n",
              "      <td>Downtown West</td>\n",
              "    </tr>\n",
              "  </tbody>\n",
              "</table>\n",
              "</div>"
            ],
            "text/plain": [
              "          idNum                 date  ... policePrecinct     neighborhood\n",
              "6823  17-000003  2017-01-01 00:00:42  ...              1  Cedar Riverside\n",
              "6824  17-000007  2017-01-01 00:03:07  ...              1    Downtown West\n",
              "6825  17-000073  2017-01-01 00:23:15  ...              5         Whittier\n",
              "6826  17-000092  2017-01-01 00:33:48  ...              5         Whittier\n",
              "6827  17-000098  2017-01-01 00:37:58  ...              1    Downtown West\n",
              "\n",
              "[5 rows x 14 columns]"
            ]
          },
          "metadata": {},
          "execution_count": 5
        }
      ]
    },
    {
      "cell_type": "markdown",
      "metadata": {
        "id": "V5OHFO5EkkiO"
      },
      "source": [
        "#wrangling data"
      ]
    },
    {
      "cell_type": "code",
      "metadata": {
        "colab": {
          "base_uri": "https://localhost:8080/"
        },
        "id": "T5bX3jIEhwym",
        "outputId": "2dccd2a7-df37-44b4-acc2-d64960b7a52c"
      },
      "source": [
        "#checking the unique values\n",
        "data.apply(pd.Series.nunique)"
      ],
      "execution_count": 6,
      "outputs": [
        {
          "output_type": "execute_result",
          "data": {
            "text/plain": [
              "idNum             51920\n",
              "date              51873\n",
              "problem               2\n",
              "MDC                   2\n",
              "citationIssued        2\n",
              "personSearch          2\n",
              "vehicleSearch         2\n",
              "preRace               8\n",
              "race                  8\n",
              "gender                3\n",
              "lat                8749\n",
              "long               9158\n",
              "policePrecinct        5\n",
              "neighborhood         87\n",
              "dtype: int64"
            ]
          },
          "metadata": {},
          "execution_count": 6
        }
      ]
    },
    {
      "cell_type": "code",
      "metadata": {
        "id": "aDmBzZhzmQVU"
      },
      "source": [
        "#removing  unnecessary columns\n",
        "data=data.loc[:, ['problem', 'vehicleSearch', 'race','gender', 'policePrecinct']]"
      ],
      "execution_count": 7,
      "outputs": []
    },
    {
      "cell_type": "code",
      "metadata": {
        "colab": {
          "base_uri": "https://localhost:8080/"
        },
        "id": "lKA4W6UJmQOI",
        "outputId": "d33e9529-950b-4cf3-bd7a-43fe10c2f917"
      },
      "source": [
        "data.apply(pd.Series.nunique)"
      ],
      "execution_count": 8,
      "outputs": [
        {
          "output_type": "execute_result",
          "data": {
            "text/plain": [
              "problem           2\n",
              "vehicleSearch     2\n",
              "race              8\n",
              "gender            3\n",
              "policePrecinct    5\n",
              "dtype: int64"
            ]
          },
          "metadata": {},
          "execution_count": 8
        }
      ]
    },
    {
      "cell_type": "code",
      "metadata": {
        "colab": {
          "base_uri": "https://localhost:8080/"
        },
        "id": "jJcCLYa0oB7V",
        "outputId": "b72afeb9-5df0-46ab-b110-98a64f892786"
      },
      "source": [
        "data.dtypes"
      ],
      "execution_count": 9,
      "outputs": [
        {
          "output_type": "execute_result",
          "data": {
            "text/plain": [
              "problem           object\n",
              "vehicleSearch     object\n",
              "race              object\n",
              "gender            object\n",
              "policePrecinct     int64\n",
              "dtype: object"
            ]
          },
          "metadata": {},
          "execution_count": 9
        }
      ]
    },
    {
      "cell_type": "markdown",
      "metadata": {
        "id": "Vesdzh4snapd"
      },
      "source": [
        "#Transforming dataset"
      ]
    },
    {
      "cell_type": "code",
      "metadata": {
        "id": "xef7aBq6mQJD"
      },
      "source": [
        "import seaborn as sns"
      ],
      "execution_count": 10,
      "outputs": []
    },
    {
      "cell_type": "code",
      "metadata": {
        "colab": {
          "base_uri": "https://localhost:8080/",
          "height": 244
        },
        "id": "_oXIrIqqo2hR",
        "outputId": "fe3524f9-4791-4016-969b-a4b45d2de8c8"
      },
      "source": [
        "data=pd.get_dummies(data, drop_first=True)\n",
        "data.head()"
      ],
      "execution_count": 11,
      "outputs": [
        {
          "output_type": "execute_result",
          "data": {
            "text/html": [
              "<div>\n",
              "<style scoped>\n",
              "    .dataframe tbody tr th:only-of-type {\n",
              "        vertical-align: middle;\n",
              "    }\n",
              "\n",
              "    .dataframe tbody tr th {\n",
              "        vertical-align: top;\n",
              "    }\n",
              "\n",
              "    .dataframe thead th {\n",
              "        text-align: right;\n",
              "    }\n",
              "</style>\n",
              "<table border=\"1\" class=\"dataframe\">\n",
              "  <thead>\n",
              "    <tr style=\"text-align: right;\">\n",
              "      <th></th>\n",
              "      <th>policePrecinct</th>\n",
              "      <th>problem_traffic</th>\n",
              "      <th>vehicleSearch_YES</th>\n",
              "      <th>race_Black</th>\n",
              "      <th>race_East African</th>\n",
              "      <th>race_Latino</th>\n",
              "      <th>race_Native American</th>\n",
              "      <th>race_Other</th>\n",
              "      <th>race_Unknown</th>\n",
              "      <th>race_White</th>\n",
              "      <th>gender_Male</th>\n",
              "      <th>gender_Unknown</th>\n",
              "    </tr>\n",
              "  </thead>\n",
              "  <tbody>\n",
              "    <tr>\n",
              "      <th>6823</th>\n",
              "      <td>1</td>\n",
              "      <td>0</td>\n",
              "      <td>0</td>\n",
              "      <td>0</td>\n",
              "      <td>0</td>\n",
              "      <td>0</td>\n",
              "      <td>0</td>\n",
              "      <td>0</td>\n",
              "      <td>1</td>\n",
              "      <td>0</td>\n",
              "      <td>0</td>\n",
              "      <td>1</td>\n",
              "    </tr>\n",
              "    <tr>\n",
              "      <th>6824</th>\n",
              "      <td>1</td>\n",
              "      <td>0</td>\n",
              "      <td>0</td>\n",
              "      <td>0</td>\n",
              "      <td>0</td>\n",
              "      <td>0</td>\n",
              "      <td>0</td>\n",
              "      <td>0</td>\n",
              "      <td>1</td>\n",
              "      <td>0</td>\n",
              "      <td>1</td>\n",
              "      <td>0</td>\n",
              "    </tr>\n",
              "    <tr>\n",
              "      <th>6825</th>\n",
              "      <td>5</td>\n",
              "      <td>1</td>\n",
              "      <td>0</td>\n",
              "      <td>0</td>\n",
              "      <td>0</td>\n",
              "      <td>0</td>\n",
              "      <td>0</td>\n",
              "      <td>0</td>\n",
              "      <td>0</td>\n",
              "      <td>1</td>\n",
              "      <td>0</td>\n",
              "      <td>0</td>\n",
              "    </tr>\n",
              "    <tr>\n",
              "      <th>6826</th>\n",
              "      <td>5</td>\n",
              "      <td>0</td>\n",
              "      <td>0</td>\n",
              "      <td>0</td>\n",
              "      <td>1</td>\n",
              "      <td>0</td>\n",
              "      <td>0</td>\n",
              "      <td>0</td>\n",
              "      <td>0</td>\n",
              "      <td>0</td>\n",
              "      <td>1</td>\n",
              "      <td>0</td>\n",
              "    </tr>\n",
              "    <tr>\n",
              "      <th>6827</th>\n",
              "      <td>1</td>\n",
              "      <td>1</td>\n",
              "      <td>0</td>\n",
              "      <td>0</td>\n",
              "      <td>0</td>\n",
              "      <td>0</td>\n",
              "      <td>0</td>\n",
              "      <td>0</td>\n",
              "      <td>0</td>\n",
              "      <td>1</td>\n",
              "      <td>0</td>\n",
              "      <td>0</td>\n",
              "    </tr>\n",
              "  </tbody>\n",
              "</table>\n",
              "</div>"
            ],
            "text/plain": [
              "      policePrecinct  problem_traffic  ...  gender_Male  gender_Unknown\n",
              "6823               1                0  ...            0               1\n",
              "6824               1                0  ...            1               0\n",
              "6825               5                1  ...            0               0\n",
              "6826               5                0  ...            1               0\n",
              "6827               1                1  ...            0               0\n",
              "\n",
              "[5 rows x 12 columns]"
            ]
          },
          "metadata": {},
          "execution_count": 11
        }
      ]
    },
    {
      "cell_type": "markdown",
      "metadata": {
        "id": "emwusy355Ekw"
      },
      "source": [
        "#CHAID"
      ]
    },
    {
      "cell_type": "code",
      "metadata": {
        "colab": {
          "base_uri": "https://localhost:8080/"
        },
        "id": "Iq1gf5lqntYX",
        "outputId": "d0a993d5-8b91-4949-9bae-bcc850af68ca"
      },
      "source": [
        "y_value=data.vehicleSearch_YES.name\n",
        "x_value= data.drop(columns='vehicleSearch_YES').columns\n",
        "print(x_value)\n",
        "len(x_value)"
      ],
      "execution_count": 12,
      "outputs": [
        {
          "output_type": "stream",
          "name": "stdout",
          "text": [
            "Index(['policePrecinct', 'problem_traffic', 'race_Black', 'race_East African',\n",
            "       'race_Latino', 'race_Native American', 'race_Other', 'race_Unknown',\n",
            "       'race_White', 'gender_Male', 'gender_Unknown'],\n",
            "      dtype='object')\n"
          ]
        },
        {
          "output_type": "execute_result",
          "data": {
            "text/plain": [
              "11"
            ]
          },
          "metadata": {},
          "execution_count": 12
        }
      ]
    },
    {
      "cell_type": "code",
      "metadata": {
        "id": "myjyfkWZ1MZo"
      },
      "source": [
        "model= Tree.from_pandas_df(data, dict(zip(x_value, ['nominal']*11)), y_value, max_depth=2)"
      ],
      "execution_count": 16,
      "outputs": []
    },
    {
      "cell_type": "code",
      "metadata": {
        "id": "Lrvg6q8m1Mcb"
      },
      "source": [
        "import orca\n",
        "import plotly\n",
        "import plotly.graph_objects as go"
      ],
      "execution_count": 15,
      "outputs": []
    },
    {
      "cell_type": "code",
      "metadata": {
        "id": "QHFGUobaAFuh"
      },
      "source": [
        "#model.render()"
      ],
      "execution_count": 17,
      "outputs": []
    },
    {
      "cell_type": "code",
      "metadata": {
        "id": "MT6PXXiUAE1a"
      },
      "source": [
        ""
      ],
      "execution_count": null,
      "outputs": []
    }
  ]
}