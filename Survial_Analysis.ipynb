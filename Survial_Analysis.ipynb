{
  "nbformat": 4,
  "nbformat_minor": 0,
  "metadata": {
    "colab": {
      "name": "Survial Analysis",
      "provenance": [],
      "mount_file_id": "1z5l9WOgImERXrj5qXYud1h4PDE6KerPu",
      "authorship_tag": "ABX9TyOyvhBrVjFnoP7DrLCTv1jo",
      "include_colab_link": true
    },
    "kernelspec": {
      "name": "python3",
      "display_name": "Python 3"
    },
    "language_info": {
      "name": "python"
    }
  },
  "cells": [
    {
      "cell_type": "markdown",
      "metadata": {
        "id": "view-in-github",
        "colab_type": "text"
      },
      "source": [
        "<a href=\"https://colab.research.google.com/github/powersurge8891/Data-mining-with-Python/blob/main/Survial_Analysis.ipynb\" target=\"_parent\"><img src=\"https://colab.research.google.com/assets/colab-badge.svg\" alt=\"Open In Colab\"/></a>"
      ]
    },
    {
      "cell_type": "code",
      "metadata": {
        "colab": {
          "base_uri": "https://localhost:8080/"
        },
        "id": "SM0JuagHO_be",
        "outputId": "63292cf0-ab80-4643-d3a6-5638d741777e"
      },
      "source": [
        "%cd /content/drive/MyDrive/Data Mining for Business in Python/1. Survival Analysis"
      ],
      "execution_count": null,
      "outputs": [
        {
          "output_type": "stream",
          "name": "stdout",
          "text": [
            "/content/drive/MyDrive/Data Mining for Business in Python/1. Survival Analysis\n"
          ]
        }
      ]
    },
    {
      "cell_type": "code",
      "metadata": {
        "id": "An_ygD8gVzy7"
      },
      "source": [
        "!pip install lifelines"
      ],
      "execution_count": null,
      "outputs": []
    },
    {
      "cell_type": "code",
      "metadata": {
        "id": "Su9u6s2bXSPw"
      },
      "source": [
        "import pandas as pd\n",
        "import seaborn as sns\n",
        "import numpy as np"
      ],
      "execution_count": null,
      "outputs": []
    },
    {
      "cell_type": "markdown",
      "metadata": {
        "id": "GCLWJ507Z76W"
      },
      "source": [
        "Cancer dataset\n",
        "time: the number of days the patient lived\n",
        "status: 2(dead), 1(alive)"
      ]
    },
    {
      "cell_type": "code",
      "metadata": {
        "colab": {
          "base_uri": "https://localhost:8080/",
          "height": 175
        },
        "id": "R5xUUn2OYzoA",
        "outputId": "f93ad06f-27c9-40aa-bfc6-eede897ecbe5"
      },
      "source": [
        "dataset=pd.read_csv('lung.csv')\n",
        "dataset.head(4)"
      ],
      "execution_count": null,
      "outputs": [
        {
          "output_type": "execute_result",
          "data": {
            "text/html": [
              "<div>\n",
              "<style scoped>\n",
              "    .dataframe tbody tr th:only-of-type {\n",
              "        vertical-align: middle;\n",
              "    }\n",
              "\n",
              "    .dataframe tbody tr th {\n",
              "        vertical-align: top;\n",
              "    }\n",
              "\n",
              "    .dataframe thead th {\n",
              "        text-align: right;\n",
              "    }\n",
              "</style>\n",
              "<table border=\"1\" class=\"dataframe\">\n",
              "  <thead>\n",
              "    <tr style=\"text-align: right;\">\n",
              "      <th></th>\n",
              "      <th>inst</th>\n",
              "      <th>time</th>\n",
              "      <th>status</th>\n",
              "      <th>age</th>\n",
              "      <th>sex</th>\n",
              "      <th>ph.ecog</th>\n",
              "      <th>ph.karno</th>\n",
              "      <th>pat.karno</th>\n",
              "      <th>meal.cal</th>\n",
              "      <th>wt.loss</th>\n",
              "    </tr>\n",
              "  </thead>\n",
              "  <tbody>\n",
              "    <tr>\n",
              "      <th>0</th>\n",
              "      <td>3.0</td>\n",
              "      <td>306</td>\n",
              "      <td>2</td>\n",
              "      <td>74</td>\n",
              "      <td>1</td>\n",
              "      <td>1.0</td>\n",
              "      <td>90.0</td>\n",
              "      <td>100.0</td>\n",
              "      <td>1175.0</td>\n",
              "      <td>NaN</td>\n",
              "    </tr>\n",
              "    <tr>\n",
              "      <th>1</th>\n",
              "      <td>3.0</td>\n",
              "      <td>455</td>\n",
              "      <td>2</td>\n",
              "      <td>68</td>\n",
              "      <td>1</td>\n",
              "      <td>0.0</td>\n",
              "      <td>90.0</td>\n",
              "      <td>90.0</td>\n",
              "      <td>1225.0</td>\n",
              "      <td>15.0</td>\n",
              "    </tr>\n",
              "    <tr>\n",
              "      <th>2</th>\n",
              "      <td>3.0</td>\n",
              "      <td>1010</td>\n",
              "      <td>1</td>\n",
              "      <td>56</td>\n",
              "      <td>1</td>\n",
              "      <td>0.0</td>\n",
              "      <td>90.0</td>\n",
              "      <td>90.0</td>\n",
              "      <td>NaN</td>\n",
              "      <td>15.0</td>\n",
              "    </tr>\n",
              "    <tr>\n",
              "      <th>3</th>\n",
              "      <td>5.0</td>\n",
              "      <td>210</td>\n",
              "      <td>2</td>\n",
              "      <td>57</td>\n",
              "      <td>1</td>\n",
              "      <td>1.0</td>\n",
              "      <td>90.0</td>\n",
              "      <td>60.0</td>\n",
              "      <td>1150.0</td>\n",
              "      <td>11.0</td>\n",
              "    </tr>\n",
              "  </tbody>\n",
              "</table>\n",
              "</div>"
            ],
            "text/plain": [
              "   inst  time  status  age  ...  ph.karno  pat.karno  meal.cal  wt.loss\n",
              "0   3.0   306       2   74  ...      90.0      100.0    1175.0      NaN\n",
              "1   3.0   455       2   68  ...      90.0       90.0    1225.0     15.0\n",
              "2   3.0  1010       1   56  ...      90.0       90.0       NaN     15.0\n",
              "3   5.0   210       2   57  ...      90.0       60.0    1150.0     11.0\n",
              "\n",
              "[4 rows x 10 columns]"
            ]
          },
          "metadata": {},
          "execution_count": 4
        }
      ]
    },
    {
      "cell_type": "markdown",
      "metadata": {
        "id": "A-8kma2tcJ3s"
      },
      "source": [
        "Transformation"
      ]
    },
    {
      "cell_type": "code",
      "metadata": {
        "colab": {
          "base_uri": "https://localhost:8080/"
        },
        "id": "gGIDTMVXYzvP",
        "outputId": "8758c56b-76be-454a-847a-842e52bc9d64"
      },
      "source": [
        "dataset.isna().sum()"
      ],
      "execution_count": null,
      "outputs": [
        {
          "output_type": "execute_result",
          "data": {
            "text/plain": [
              "inst          1\n",
              "time          0\n",
              "status        0\n",
              "age           0\n",
              "sex           0\n",
              "ph.ecog       1\n",
              "ph.karno      1\n",
              "pat.karno     3\n",
              "meal.cal     47\n",
              "wt.loss      14\n",
              "dtype: int64"
            ]
          },
          "metadata": {},
          "execution_count": 5
        }
      ]
    },
    {
      "cell_type": "code",
      "metadata": {
        "colab": {
          "base_uri": "https://localhost:8080/"
        },
        "id": "rz4VHdACYz1Y",
        "outputId": "a7dcdf1c-8e23-45b9-fda5-ea9ab82b7d31"
      },
      "source": [
        "dataset.info()"
      ],
      "execution_count": null,
      "outputs": [
        {
          "output_type": "stream",
          "name": "stdout",
          "text": [
            "<class 'pandas.core.frame.DataFrame'>\n",
            "RangeIndex: 228 entries, 0 to 227\n",
            "Data columns (total 10 columns):\n",
            " #   Column     Non-Null Count  Dtype  \n",
            "---  ------     --------------  -----  \n",
            " 0   inst       227 non-null    float64\n",
            " 1   time       228 non-null    int64  \n",
            " 2   status     228 non-null    int64  \n",
            " 3   age        228 non-null    int64  \n",
            " 4   sex        228 non-null    int64  \n",
            " 5   ph.ecog    227 non-null    float64\n",
            " 6   ph.karno   227 non-null    float64\n",
            " 7   pat.karno  225 non-null    float64\n",
            " 8   meal.cal   181 non-null    float64\n",
            " 9   wt.loss    214 non-null    float64\n",
            "dtypes: float64(6), int64(4)\n",
            "memory usage: 17.9 KB\n"
          ]
        }
      ]
    },
    {
      "cell_type": "code",
      "metadata": {
        "id": "36hHMntwYz42"
      },
      "source": [
        "dataset.dropna(inplace=True)"
      ],
      "execution_count": null,
      "outputs": []
    },
    {
      "cell_type": "code",
      "metadata": {
        "colab": {
          "base_uri": "https://localhost:8080/",
          "height": 325
        },
        "id": "9E2w25RCfLi-",
        "outputId": "95069316-88b4-430e-d982-dbaaa62d9422"
      },
      "source": [
        "sns.heatmap(dataset.isna())"
      ],
      "execution_count": null,
      "outputs": [
        {
          "output_type": "execute_result",
          "data": {
            "text/plain": [
              "<matplotlib.axes._subplots.AxesSubplot at 0x7fb103b48f90>"
            ]
          },
          "metadata": {},
          "execution_count": 8
        },
        {
          "output_type": "display_data",
          "data": {
            "image/png": "[encoded data removed]",
            "text/plain": [
              "<Figure size 432x288 with 2 Axes>"
            ]
          },
          "metadata": {
            "needs_background": "light"
          }
        }
      ]
    },
    {
      "cell_type": "code",
      "metadata": {
        "colab": {
          "base_uri": "https://localhost:8080/",
          "height": 206
        },
        "id": "a-X2bKIcfSNa",
        "outputId": "9751c318-e510-4971-d8ec-6f809f2ee4ba"
      },
      "source": [
        "dataset.tail()"
      ],
      "execution_count": null,
      "outputs": [
        {
          "output_type": "execute_result",
          "data": {
            "text/html": [
              "<div>\n",
              "<style scoped>\n",
              "    .dataframe tbody tr th:only-of-type {\n",
              "        vertical-align: middle;\n",
              "    }\n",
              "\n",
              "    .dataframe tbody tr th {\n",
              "        vertical-align: top;\n",
              "    }\n",
              "\n",
              "    .dataframe thead th {\n",
              "        text-align: right;\n",
              "    }\n",
              "</style>\n",
              "<table border=\"1\" class=\"dataframe\">\n",
              "  <thead>\n",
              "    <tr style=\"text-align: right;\">\n",
              "      <th></th>\n",
              "      <th>inst</th>\n",
              "      <th>time</th>\n",
              "      <th>status</th>\n",
              "      <th>age</th>\n",
              "      <th>sex</th>\n",
              "      <th>ph.ecog</th>\n",
              "      <th>ph.karno</th>\n",
              "      <th>pat.karno</th>\n",
              "      <th>meal.cal</th>\n",
              "      <th>wt.loss</th>\n",
              "    </tr>\n",
              "  </thead>\n",
              "  <tbody>\n",
              "    <tr>\n",
              "      <th>221</th>\n",
              "      <td>11.0</td>\n",
              "      <td>203</td>\n",
              "      <td>1</td>\n",
              "      <td>71</td>\n",
              "      <td>2</td>\n",
              "      <td>1.0</td>\n",
              "      <td>80.0</td>\n",
              "      <td>90.0</td>\n",
              "      <td>1025.0</td>\n",
              "      <td>0.0</td>\n",
              "    </tr>\n",
              "    <tr>\n",
              "      <th>224</th>\n",
              "      <td>13.0</td>\n",
              "      <td>191</td>\n",
              "      <td>1</td>\n",
              "      <td>39</td>\n",
              "      <td>1</td>\n",
              "      <td>0.0</td>\n",
              "      <td>90.0</td>\n",
              "      <td>90.0</td>\n",
              "      <td>2350.0</td>\n",
              "      <td>-5.0</td>\n",
              "    </tr>\n",
              "    <tr>\n",
              "      <th>225</th>\n",
              "      <td>32.0</td>\n",
              "      <td>105</td>\n",
              "      <td>1</td>\n",
              "      <td>75</td>\n",
              "      <td>2</td>\n",
              "      <td>2.0</td>\n",
              "      <td>60.0</td>\n",
              "      <td>70.0</td>\n",
              "      <td>1025.0</td>\n",
              "      <td>5.0</td>\n",
              "    </tr>\n",
              "    <tr>\n",
              "      <th>226</th>\n",
              "      <td>6.0</td>\n",
              "      <td>174</td>\n",
              "      <td>1</td>\n",
              "      <td>66</td>\n",
              "      <td>1</td>\n",
              "      <td>1.0</td>\n",
              "      <td>90.0</td>\n",
              "      <td>100.0</td>\n",
              "      <td>1075.0</td>\n",
              "      <td>1.0</td>\n",
              "    </tr>\n",
              "    <tr>\n",
              "      <th>227</th>\n",
              "      <td>22.0</td>\n",
              "      <td>177</td>\n",
              "      <td>1</td>\n",
              "      <td>58</td>\n",
              "      <td>2</td>\n",
              "      <td>1.0</td>\n",
              "      <td>80.0</td>\n",
              "      <td>90.0</td>\n",
              "      <td>1060.0</td>\n",
              "      <td>0.0</td>\n",
              "    </tr>\n",
              "  </tbody>\n",
              "</table>\n",
              "</div>"
            ],
            "text/plain": [
              "     inst  time  status  age  ...  ph.karno  pat.karno  meal.cal  wt.loss\n",
              "221  11.0   203       1   71  ...      80.0       90.0    1025.0      0.0\n",
              "224  13.0   191       1   39  ...      90.0       90.0    2350.0     -5.0\n",
              "225  32.0   105       1   75  ...      60.0       70.0    1025.0      5.0\n",
              "226   6.0   174       1   66  ...      90.0      100.0    1075.0      1.0\n",
              "227  22.0   177       1   58  ...      80.0       90.0    1060.0      0.0\n",
              "\n",
              "[5 rows x 10 columns]"
            ]
          },
          "metadata": {},
          "execution_count": 9
        }
      ]
    },
    {
      "cell_type": "code",
      "metadata": {
        "id": "jVyvFPmDffPT"
      },
      "source": [
        "dataset['status_new']=dataset.status.map({2:1, 1:0})"
      ],
      "execution_count": null,
      "outputs": []
    },
    {
      "cell_type": "code",
      "metadata": {
        "id": "wOQb76lKffTx"
      },
      "source": [
        "dataset.drop(columns='status', inplace=True)"
      ],
      "execution_count": null,
      "outputs": []
    },
    {
      "cell_type": "code",
      "metadata": {
        "colab": {
          "base_uri": "https://localhost:8080/",
          "height": 206
        },
        "id": "HD9AXQ2Tg8D-",
        "outputId": "d005db79-4f8c-415d-ea28-eb77341ece36"
      },
      "source": [
        "dataset.head()"
      ],
      "execution_count": null,
      "outputs": [
        {
          "output_type": "execute_result",
          "data": {
            "text/html": [
              "<div>\n",
              "<style scoped>\n",
              "    .dataframe tbody tr th:only-of-type {\n",
              "        vertical-align: middle;\n",
              "    }\n",
              "\n",
              "    .dataframe tbody tr th {\n",
              "        vertical-align: top;\n",
              "    }\n",
              "\n",
              "    .dataframe thead th {\n",
              "        text-align: right;\n",
              "    }\n",
              "</style>\n",
              "<table border=\"1\" class=\"dataframe\">\n",
              "  <thead>\n",
              "    <tr style=\"text-align: right;\">\n",
              "      <th></th>\n",
              "      <th>inst</th>\n",
              "      <th>time</th>\n",
              "      <th>age</th>\n",
              "      <th>sex</th>\n",
              "      <th>ph.ecog</th>\n",
              "      <th>ph.karno</th>\n",
              "      <th>pat.karno</th>\n",
              "      <th>meal.cal</th>\n",
              "      <th>wt.loss</th>\n",
              "      <th>status_new</th>\n",
              "    </tr>\n",
              "  </thead>\n",
              "  <tbody>\n",
              "    <tr>\n",
              "      <th>1</th>\n",
              "      <td>3.0</td>\n",
              "      <td>455</td>\n",
              "      <td>68</td>\n",
              "      <td>1</td>\n",
              "      <td>0.0</td>\n",
              "      <td>90.0</td>\n",
              "      <td>90.0</td>\n",
              "      <td>1225.0</td>\n",
              "      <td>15.0</td>\n",
              "      <td>1</td>\n",
              "    </tr>\n",
              "    <tr>\n",
              "      <th>3</th>\n",
              "      <td>5.0</td>\n",
              "      <td>210</td>\n",
              "      <td>57</td>\n",
              "      <td>1</td>\n",
              "      <td>1.0</td>\n",
              "      <td>90.0</td>\n",
              "      <td>60.0</td>\n",
              "      <td>1150.0</td>\n",
              "      <td>11.0</td>\n",
              "      <td>1</td>\n",
              "    </tr>\n",
              "    <tr>\n",
              "      <th>5</th>\n",
              "      <td>12.0</td>\n",
              "      <td>1022</td>\n",
              "      <td>74</td>\n",
              "      <td>1</td>\n",
              "      <td>1.0</td>\n",
              "      <td>50.0</td>\n",
              "      <td>80.0</td>\n",
              "      <td>513.0</td>\n",
              "      <td>0.0</td>\n",
              "      <td>0</td>\n",
              "    </tr>\n",
              "    <tr>\n",
              "      <th>6</th>\n",
              "      <td>7.0</td>\n",
              "      <td>310</td>\n",
              "      <td>68</td>\n",
              "      <td>2</td>\n",
              "      <td>2.0</td>\n",
              "      <td>70.0</td>\n",
              "      <td>60.0</td>\n",
              "      <td>384.0</td>\n",
              "      <td>10.0</td>\n",
              "      <td>1</td>\n",
              "    </tr>\n",
              "    <tr>\n",
              "      <th>7</th>\n",
              "      <td>11.0</td>\n",
              "      <td>361</td>\n",
              "      <td>71</td>\n",
              "      <td>2</td>\n",
              "      <td>2.0</td>\n",
              "      <td>60.0</td>\n",
              "      <td>80.0</td>\n",
              "      <td>538.0</td>\n",
              "      <td>1.0</td>\n",
              "      <td>1</td>\n",
              "    </tr>\n",
              "  </tbody>\n",
              "</table>\n",
              "</div>"
            ],
            "text/plain": [
              "   inst  time  age  sex  ...  pat.karno  meal.cal  wt.loss  status_new\n",
              "1   3.0   455   68    1  ...       90.0    1225.0     15.0           1\n",
              "3   5.0   210   57    1  ...       60.0    1150.0     11.0           1\n",
              "5  12.0  1022   74    1  ...       80.0     513.0      0.0           0\n",
              "6   7.0   310   68    2  ...       60.0     384.0     10.0           1\n",
              "7  11.0   361   71    2  ...       80.0     538.0      1.0           1\n",
              "\n",
              "[5 rows x 10 columns]"
            ]
          },
          "metadata": {},
          "execution_count": 12
        }
      ]
    },
    {
      "cell_type": "markdown",
      "metadata": {
        "id": "C95fZnbUC00Y"
      },
      "source": [
        "KAPLAN MEIER ESTIMATOR"
      ]
    },
    {
      "cell_type": "code",
      "metadata": {
        "id": "KUwatyoag8JB",
        "colab": {
          "base_uri": "https://localhost:8080/",
          "height": 237
        },
        "outputId": "928bd52d-a5b3-413b-d13f-d8ca8edc51fc"
      },
      "source": [
        "from lifelines import KaplanMeierFitter\n",
        "model= KaplanMeierFitter()\n",
        "model.fit(durations=dataset.time, event_observed=dataset.status_new)\n",
        "model.event_table.head(5)"
      ],
      "execution_count": null,
      "outputs": [
        {
          "output_type": "execute_result",
          "data": {
            "text/html": [
              "<div>\n",
              "<style scoped>\n",
              "    .dataframe tbody tr th:only-of-type {\n",
              "        vertical-align: middle;\n",
              "    }\n",
              "\n",
              "    .dataframe tbody tr th {\n",
              "        vertical-align: top;\n",
              "    }\n",
              "\n",
              "    .dataframe thead th {\n",
              "        text-align: right;\n",
              "    }\n",
              "</style>\n",
              "<table border=\"1\" class=\"dataframe\">\n",
              "  <thead>\n",
              "    <tr style=\"text-align: right;\">\n",
              "      <th></th>\n",
              "      <th>removed</th>\n",
              "      <th>observed</th>\n",
              "      <th>censored</th>\n",
              "      <th>entrance</th>\n",
              "      <th>at_risk</th>\n",
              "    </tr>\n",
              "    <tr>\n",
              "      <th>event_at</th>\n",
              "      <th></th>\n",
              "      <th></th>\n",
              "      <th></th>\n",
              "      <th></th>\n",
              "      <th></th>\n",
              "    </tr>\n",
              "  </thead>\n",
              "  <tbody>\n",
              "    <tr>\n",
              "      <th>0.0</th>\n",
              "      <td>0</td>\n",
              "      <td>0</td>\n",
              "      <td>0</td>\n",
              "      <td>167</td>\n",
              "      <td>167</td>\n",
              "    </tr>\n",
              "    <tr>\n",
              "      <th>5.0</th>\n",
              "      <td>1</td>\n",
              "      <td>1</td>\n",
              "      <td>0</td>\n",
              "      <td>0</td>\n",
              "      <td>167</td>\n",
              "    </tr>\n",
              "    <tr>\n",
              "      <th>11.0</th>\n",
              "      <td>1</td>\n",
              "      <td>1</td>\n",
              "      <td>0</td>\n",
              "      <td>0</td>\n",
              "      <td>166</td>\n",
              "    </tr>\n",
              "    <tr>\n",
              "      <th>12.0</th>\n",
              "      <td>1</td>\n",
              "      <td>1</td>\n",
              "      <td>0</td>\n",
              "      <td>0</td>\n",
              "      <td>165</td>\n",
              "    </tr>\n",
              "    <tr>\n",
              "      <th>13.0</th>\n",
              "      <td>1</td>\n",
              "      <td>1</td>\n",
              "      <td>0</td>\n",
              "      <td>0</td>\n",
              "      <td>164</td>\n",
              "    </tr>\n",
              "  </tbody>\n",
              "</table>\n",
              "</div>"
            ],
            "text/plain": [
              "          removed  observed  censored  entrance  at_risk\n",
              "event_at                                                \n",
              "0.0             0         0         0       167      167\n",
              "5.0             1         1         0         0      167\n",
              "11.0            1         1         0         0      166\n",
              "12.0            1         1         0         0      165\n",
              "13.0            1         1         0         0      164"
            ]
          },
          "metadata": {},
          "execution_count": 13
        }
      ]
    },
    {
      "cell_type": "markdown",
      "metadata": {
        "id": "y2T2jGAWIhB2"
      },
      "source": [
        "S(tₗ)= S(tₗ-1)* (1-dₗ/nₗ) : probability of surviving any giving day\n",
        "where:\n",
        "S(tₗ) is the probability of survival at time t\n",
        "dₗ: number of events at time t\n",
        "nₗ: number of survivals at time t"
      ]
    },
    {
      "cell_type": "code",
      "metadata": {
        "id": "PSuv1NFhg8NI",
        "colab": {
          "base_uri": "https://localhost:8080/"
        },
        "outputId": "08fef09c-04f9-47d1-da21-99878b9d226a"
      },
      "source": [
        "#calculating for specific event\n",
        "\n",
        "#probability of surving day 5\n",
        "day_5= model.event_table.iloc[1, :]\n",
        "day_5"
      ],
      "execution_count": null,
      "outputs": [
        {
          "output_type": "execute_result",
          "data": {
            "text/plain": [
              "removed       1\n",
              "observed      1\n",
              "censored      0\n",
              "entrance      0\n",
              "at_risk     167\n",
              "Name: 5.0, dtype: int64"
            ]
          },
          "metadata": {},
          "execution_count": 14
        }
      ]
    },
    {
      "cell_type": "code",
      "metadata": {
        "id": "PtpTDe_mffXS",
        "colab": {
          "base_uri": "https://localhost:8080/"
        },
        "outputId": "c5659a7e-7625-4221-c295-dda21ff279a1"
      },
      "source": [
        "sur_5=1 *(1-day_5.observed/day_5.at_risk) #note that the probability of surviving the first day is 100% or 1\n",
        "sur_5.round(3) #thus, the probability of surviving day 5 is 99%"
      ],
      "execution_count": null,
      "outputs": [
        {
          "output_type": "execute_result",
          "data": {
            "text/plain": [
              "0.994"
            ]
          },
          "metadata": {},
          "execution_count": 21
        }
      ]
    },
    {
      "cell_type": "code",
      "metadata": {
        "colab": {
          "base_uri": "https://localhost:8080/"
        },
        "id": "6SavPp3RNuzv",
        "outputId": "bb55d472-152a-43a0-95f5-58357327ab47"
      },
      "source": [
        "# Probability of surviving day 11\n",
        "day_11= model.event_table.iloc[2, :]\n",
        "day_11"
      ],
      "execution_count": null,
      "outputs": [
        {
          "output_type": "execute_result",
          "data": {
            "text/plain": [
              "removed       1\n",
              "observed      1\n",
              "censored      0\n",
              "entrance      0\n",
              "at_risk     166\n",
              "Name: 11.0, dtype: int64"
            ]
          },
          "metadata": {},
          "execution_count": 16
        }
      ]
    },
    {
      "cell_type": "code",
      "metadata": {
        "colab": {
          "base_uri": "https://localhost:8080/"
        },
        "id": "ZD15mmCiOH-B",
        "outputId": "51a1f52e-f62c-4379-dced-02c7e07d29a9"
      },
      "source": [
        "surv_11= sur_5*(1-day_11.observed/day_11.at_risk)\n",
        "surv_11.round(3)"
      ],
      "execution_count": null,
      "outputs": [
        {
          "output_type": "execute_result",
          "data": {
            "text/plain": [
              "0.988"
            ]
          },
          "metadata": {},
          "execution_count": 20
        }
      ]
    },
    {
      "cell_type": "markdown",
      "metadata": {
        "id": "fphNmWPVWe1z"
      },
      "source": [
        "VIZUALIZING SURVIVAL CURVE"
      ]
    },
    {
      "cell_type": "code",
      "metadata": {
        "colab": {
          "base_uri": "https://localhost:8080/",
          "height": 368
        },
        "id": "bILCVRSFVinW",
        "outputId": "20aca8b6-9d08-4126-a8b3-c06696f9d6db"
      },
      "source": [
        "import matplotlib.pyplot as plt\n",
        "plt.ylabel(\"Probability of survial\")\n",
        "plt.title(\"Survival Curve- Kaplan Meier Estimator\")\n",
        "model.plot(figsize=(13,5))\n"
      ],
      "execution_count": null,
      "outputs": [
        {
          "output_type": "execute_result",
          "data": {
            "text/plain": [
              "<matplotlib.axes._subplots.AxesSubplot at 0x7fb0f8e97390>"
            ]
          },
          "metadata": {},
          "execution_count": 31
        },
        {
          "output_type": "display_data",
          "data": {
            "image/png": "[encoded data removed]",
            "text/plain": [
              "<Figure size 936x360 with 1 Axes>"
            ]
          },
          "metadata": {
            "needs_background": "light"
          }
        }
      ]
    },
    {
      "cell_type": "code",
      "metadata": {
        "colab": {
          "base_uri": "https://localhost:8080/",
          "height": 368
        },
        "id": "ag69RKPkVix4",
        "outputId": "a0b7d28b-09d6-47cc-8aa0-1d3a1b40ce7e"
      },
      "source": [
        "#Another way of vizualizing our result\n",
        "import matplotlib.pyplot as plt\n",
        "plt.ylabel(\"Probability of survial\")\n",
        "plt.title(\"Survival Curve- Kaplan Meier Estimator (Cumulative)\")\n",
        "model.plot_cumulative_density(figsize=(13,5))"
      ],
      "execution_count": null,
      "outputs": [
        {
          "output_type": "execute_result",
          "data": {
            "text/plain": [
              "<matplotlib.axes._subplots.AxesSubplot at 0x7fb0f8d4d850>"
            ]
          },
          "metadata": {},
          "execution_count": 34
        },
        {
          "output_type": "display_data",
          "data": {
            "image/png": "[encoded data removed]",
            "text/plain": [
              "<Figure size 936x360 with 1 Axes>"
            ]
          },
          "metadata": {
            "needs_background": "light"
          }
        }
      ]
    },
    {
      "cell_type": "markdown",
      "metadata": {
        "id": "dKUHPGepaRBH"
      },
      "source": [
        "LOG RANK TEST"
      ]
    },
    {
      "cell_type": "code",
      "metadata": {
        "colab": {
          "base_uri": "https://localhost:8080/",
          "height": 144
        },
        "id": "5taIVXYGZkKM",
        "outputId": "4a5eeeec-fb3d-4553-9925-ebf2d52923bc"
      },
      "source": [
        "#like t-test, the log rank test is used to test the whether there is significant difference between the inputs.\n",
        "male=dataset.query('sex==1')\n",
        "female=dataset.query('sex==2')\n",
        "male.head(3)\n"
      ],
      "execution_count": null,
      "outputs": [
        {
          "output_type": "execute_result",
          "data": {
            "text/html": [
              "<div>\n",
              "<style scoped>\n",
              "    .dataframe tbody tr th:only-of-type {\n",
              "        vertical-align: middle;\n",
              "    }\n",
              "\n",
              "    .dataframe tbody tr th {\n",
              "        vertical-align: top;\n",
              "    }\n",
              "\n",
              "    .dataframe thead th {\n",
              "        text-align: right;\n",
              "    }\n",
              "</style>\n",
              "<table border=\"1\" class=\"dataframe\">\n",
              "  <thead>\n",
              "    <tr style=\"text-align: right;\">\n",
              "      <th></th>\n",
              "      <th>inst</th>\n",
              "      <th>time</th>\n",
              "      <th>age</th>\n",
              "      <th>sex</th>\n",
              "      <th>ph.ecog</th>\n",
              "      <th>ph.karno</th>\n",
              "      <th>pat.karno</th>\n",
              "      <th>meal.cal</th>\n",
              "      <th>wt.loss</th>\n",
              "      <th>status_new</th>\n",
              "    </tr>\n",
              "  </thead>\n",
              "  <tbody>\n",
              "    <tr>\n",
              "      <th>1</th>\n",
              "      <td>3.0</td>\n",
              "      <td>455</td>\n",
              "      <td>68</td>\n",
              "      <td>1</td>\n",
              "      <td>0.0</td>\n",
              "      <td>90.0</td>\n",
              "      <td>90.0</td>\n",
              "      <td>1225.0</td>\n",
              "      <td>15.0</td>\n",
              "      <td>1</td>\n",
              "    </tr>\n",
              "    <tr>\n",
              "      <th>3</th>\n",
              "      <td>5.0</td>\n",
              "      <td>210</td>\n",
              "      <td>57</td>\n",
              "      <td>1</td>\n",
              "      <td>1.0</td>\n",
              "      <td>90.0</td>\n",
              "      <td>60.0</td>\n",
              "      <td>1150.0</td>\n",
              "      <td>11.0</td>\n",
              "      <td>1</td>\n",
              "    </tr>\n",
              "    <tr>\n",
              "      <th>5</th>\n",
              "      <td>12.0</td>\n",
              "      <td>1022</td>\n",
              "      <td>74</td>\n",
              "      <td>1</td>\n",
              "      <td>1.0</td>\n",
              "      <td>50.0</td>\n",
              "      <td>80.0</td>\n",
              "      <td>513.0</td>\n",
              "      <td>0.0</td>\n",
              "      <td>0</td>\n",
              "    </tr>\n",
              "  </tbody>\n",
              "</table>\n",
              "</div>"
            ],
            "text/plain": [
              "   inst  time  age  sex  ...  pat.karno  meal.cal  wt.loss  status_new\n",
              "1   3.0   455   68    1  ...       90.0    1225.0     15.0           1\n",
              "3   5.0   210   57    1  ...       60.0    1150.0     11.0           1\n",
              "5  12.0  1022   74    1  ...       80.0     513.0      0.0           0\n",
              "\n",
              "[3 rows x 10 columns]"
            ]
          },
          "metadata": {},
          "execution_count": 46
        }
      ]
    },
    {
      "cell_type": "code",
      "metadata": {
        "colab": {
          "base_uri": "https://localhost:8080/",
          "height": 144
        },
        "id": "0Nehj0oxZkVp",
        "outputId": "229a4f7c-b9d0-4c1c-f498-9452ce917a85"
      },
      "source": [
        "female.head(3)"
      ],
      "execution_count": null,
      "outputs": [
        {
          "output_type": "execute_result",
          "data": {
            "text/html": [
              "<div>\n",
              "<style scoped>\n",
              "    .dataframe tbody tr th:only-of-type {\n",
              "        vertical-align: middle;\n",
              "    }\n",
              "\n",
              "    .dataframe tbody tr th {\n",
              "        vertical-align: top;\n",
              "    }\n",
              "\n",
              "    .dataframe thead th {\n",
              "        text-align: right;\n",
              "    }\n",
              "</style>\n",
              "<table border=\"1\" class=\"dataframe\">\n",
              "  <thead>\n",
              "    <tr style=\"text-align: right;\">\n",
              "      <th></th>\n",
              "      <th>inst</th>\n",
              "      <th>time</th>\n",
              "      <th>age</th>\n",
              "      <th>sex</th>\n",
              "      <th>ph.ecog</th>\n",
              "      <th>ph.karno</th>\n",
              "      <th>pat.karno</th>\n",
              "      <th>meal.cal</th>\n",
              "      <th>wt.loss</th>\n",
              "      <th>status_new</th>\n",
              "    </tr>\n",
              "  </thead>\n",
              "  <tbody>\n",
              "    <tr>\n",
              "      <th>6</th>\n",
              "      <td>7.0</td>\n",
              "      <td>310</td>\n",
              "      <td>68</td>\n",
              "      <td>2</td>\n",
              "      <td>2.0</td>\n",
              "      <td>70.0</td>\n",
              "      <td>60.0</td>\n",
              "      <td>384.0</td>\n",
              "      <td>10.0</td>\n",
              "      <td>1</td>\n",
              "    </tr>\n",
              "    <tr>\n",
              "      <th>7</th>\n",
              "      <td>11.0</td>\n",
              "      <td>361</td>\n",
              "      <td>71</td>\n",
              "      <td>2</td>\n",
              "      <td>2.0</td>\n",
              "      <td>60.0</td>\n",
              "      <td>80.0</td>\n",
              "      <td>538.0</td>\n",
              "      <td>1.0</td>\n",
              "      <td>1</td>\n",
              "    </tr>\n",
              "    <tr>\n",
              "      <th>18</th>\n",
              "      <td>1.0</td>\n",
              "      <td>61</td>\n",
              "      <td>56</td>\n",
              "      <td>2</td>\n",
              "      <td>2.0</td>\n",
              "      <td>60.0</td>\n",
              "      <td>60.0</td>\n",
              "      <td>238.0</td>\n",
              "      <td>10.0</td>\n",
              "      <td>1</td>\n",
              "    </tr>\n",
              "  </tbody>\n",
              "</table>\n",
              "</div>"
            ],
            "text/plain": [
              "    inst  time  age  sex  ...  pat.karno  meal.cal  wt.loss  status_new\n",
              "6    7.0   310   68    2  ...       60.0     384.0     10.0           1\n",
              "7   11.0   361   71    2  ...       80.0     538.0      1.0           1\n",
              "18   1.0    61   56    2  ...       60.0     238.0     10.0           1\n",
              "\n",
              "[3 rows x 10 columns]"
            ]
          },
          "metadata": {},
          "execution_count": 47
        }
      ]
    },
    {
      "cell_type": "code",
      "metadata": {
        "colab": {
          "base_uri": "https://localhost:8080/",
          "height": 422
        },
        "id": "RA_RdZEBZkaB",
        "outputId": "27eee64e-d0b0-46a5-9007-9ec93dbf4733"
      },
      "source": [
        "model_female= KaplanMeierFitter()\n",
        "model_female.fit(durations=female.time, event_observed=female.status_new)\n",
        "\n",
        "model_male= KaplanMeierFitter()\n",
        "model_male.fit(durations=male.time, event_observed=male.status_new)\n",
        "\n",
        "plt.ylabel(\"Probability of survival\")\n",
        "plt.title(\"Visualizing survival difference between male and female\")\n",
        "\n",
        "model_female.plot(figsize=(12,6), label= \"female\")\n",
        "model_male.plot(label=\"male\")"
      ],
      "execution_count": null,
      "outputs": [
        {
          "output_type": "execute_result",
          "data": {
            "text/plain": [
              "<matplotlib.axes._subplots.AxesSubplot at 0x7fb0f3c21110>"
            ]
          },
          "metadata": {},
          "execution_count": 64
        },
        {
          "output_type": "display_data",
          "data": {
            "image/png": "[encoded data removed]",
            "text/plain": [
              "<Figure size 864x432 with 1 Axes>"
            ]
          },
          "metadata": {
            "needs_background": "light"
          }
        }
      ]
    },
    {
      "cell_type": "code",
      "metadata": {
        "colab": {
          "base_uri": "https://localhost:8080/",
          "height": 206
        },
        "id": "I_joJ3V1ghr2",
        "outputId": "a3bd8624-9622-4175-a7b2-7731c7d8e571"
      },
      "source": [
        "#log rank test\n",
        "from lifelines.statistics import logrank_test\n",
        "logrank_test(durations_A=female.time, durations_B=male.time, \n",
        "             event_observed_A=female.status_new, event_observed_B=male.status_new)"
      ],
      "execution_count": null,
      "outputs": [
        {
          "output_type": "execute_result",
          "data": {
            "text/latex": "\\begin{tabular}{lrrr}\n\\toprule\n{} &  test\\_statistic &         p &  -log2(p) \\\\\n\\midrule\n0 &        6.045023 &  0.013946 &  6.164051 \\\\\n\\bottomrule\n\\end{tabular}\n",
            "text/html": [
              "<div>\n",
              "<style scoped>\n",
              "    .dataframe tbody tr th:only-of-type {\n",
              "        vertical-align: middle;\n",
              "    }\n",
              "\n",
              "    .dataframe tbody tr th {\n",
              "        vertical-align: top;\n",
              "    }\n",
              "\n",
              "    .dataframe thead th {\n",
              "        text-align: right;\n",
              "    }\n",
              "</style>\n",
              "<table border=\"1\" class=\"dataframe\">\n",
              "  <tbody>\n",
              "    <tr>\n",
              "      <th>t_0</th>\n",
              "      <td>-1</td>\n",
              "    </tr>\n",
              "    <tr>\n",
              "      <th>null_distribution</th>\n",
              "      <td>chi squared</td>\n",
              "    </tr>\n",
              "    <tr>\n",
              "      <th>degrees_of_freedom</th>\n",
              "      <td>1</td>\n",
              "    </tr>\n",
              "    <tr>\n",
              "      <th>test_name</th>\n",
              "      <td>logrank_test</td>\n",
              "    </tr>\n",
              "  </tbody>\n",
              "</table>\n",
              "</div><table border=\"1\" class=\"dataframe\">\n",
              "  <thead>\n",
              "    <tr style=\"text-align: right;\">\n",
              "      <th></th>\n",
              "      <th>test_statistic</th>\n",
              "      <th>p</th>\n",
              "      <th>-log2(p)</th>\n",
              "    </tr>\n",
              "  </thead>\n",
              "  <tbody>\n",
              "    <tr>\n",
              "      <th>0</th>\n",
              "      <td>6.05</td>\n",
              "      <td>0.01</td>\n",
              "      <td>6.16</td>\n",
              "    </tr>\n",
              "  </tbody>\n",
              "</table>"
            ],
            "text/plain": [
              "<lifelines.StatisticalResult: logrank_test>\n",
              "               t_0 = -1\n",
              " null_distribution = chi squared\n",
              "degrees_of_freedom = 1\n",
              "         test_name = logrank_test\n",
              "\n",
              "---\n",
              " test_statistic    p  -log2(p)\n",
              "           6.05 0.01      6.16"
            ]
          },
          "metadata": {},
          "execution_count": 65
        }
      ]
    },
    {
      "cell_type": "code",
      "metadata": {
        "id": "Ngr9LYjJhtmW"
      },
      "source": [
        "#since the p-value above is lesser than 0.05, therefore there exists significant difference between the two groups."
      ],
      "execution_count": null,
      "outputs": []
    }
  ]
}