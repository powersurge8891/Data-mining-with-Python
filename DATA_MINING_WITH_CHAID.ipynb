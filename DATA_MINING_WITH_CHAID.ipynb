{
  "nbformat": 4,
  "nbformat_minor": 0,
  "metadata": {
    "colab": {
      "name": "DATA MINING WITH CHAID",
      "provenance": [],
      "collapsed_sections": [
        "PHSWOWvG8mZQ",
        "v_tKOI6WHLRB"
      ],
      "mount_file_id": "1-8J8xNKJeozf59Cgz0ExxgaIxzH5JAMw",
      "authorship_tag": "ABX9TyMy9tCUBlPOIhna79NIeNz1",
      "include_colab_link": true
    },
    "kernelspec": {
      "name": "python3",
      "display_name": "Python 3"
    },
    "language_info": {
      "name": "python"
    }
  },
  "cells": [
    {
      "cell_type": "markdown",
      "metadata": {
        "id": "view-in-github",
        "colab_type": "text"
      },
      "source": [
        "<a href=\"https://colab.research.google.com/github/powersurge8891/Data-mining-with-Python/blob/main/DATA_MINING_WITH_CHAID.ipynb\" target=\"_parent\"><img src=\"https://colab.research.google.com/assets/colab-badge.svg\" alt=\"Open In Colab\"/></a>"
      ]
    },
    {
      "cell_type": "code",
      "metadata": {
        "colab": {
          "base_uri": "https://localhost:8080/"
        },
        "id": "exsrGDtnFclU",
        "outputId": "00f51fce-6fbe-440b-e9a3-25147f9056c2"
      },
      "source": [
        "%cd /content/drive/MyDrive/Data Mining for Business in Python/3. CHAID"
      ],
      "execution_count": 1,
      "outputs": [
        {
          "output_type": "stream",
          "name": "stdout",
          "text": [
            "/content/drive/MyDrive/Data Mining for Business in Python/3. CHAID\n"
          ]
        }
      ]
    },
    {
      "cell_type": "code",
      "metadata": {
        "id": "oc1jfMoPFq-V"
      },
      "source": [
        "!pip install CHAID\n",
        "!pip install orca\n",
        "!pip install graphviz"
      ],
      "execution_count": null,
      "outputs": []
    },
    {
      "cell_type": "code",
      "metadata": {
        "id": "soImSOHgFu3t"
      },
      "source": [
        "!pip install plotly>=4.0.0\n",
        "!wget https://github.com/plotly/orca/releases/download/v1.2.1/orca-1.2.1-x86_64.AppImage -O /usr/local/bin/orca\n",
        "!chmod +x /usr/local/bin/orca\n",
        "!apt-get install xvfb libgtk2.0-0 libgconf-2-4"
      ],
      "execution_count": null,
      "outputs": []
    },
    {
      "cell_type": "code",
      "metadata": {
        "id": "BDmauqM2FuyG"
      },
      "source": [
        "import pandas as pd\n",
        "import matplotlib.pyplot as plt\n",
        "import numpy as np\n",
        "from CHAID import Tree\n",
        "import statsmodels.api as sm"
      ],
      "execution_count": 50,
      "outputs": []
    },
    {
      "cell_type": "code",
      "metadata": {
        "id": "fxDMuZXmFuZU"
      },
      "source": [
        "data=sm.datasets.get_rdataset('ResumeNames', package='AER').data"
      ],
      "execution_count": 5,
      "outputs": []
    },
    {
      "cell_type": "code",
      "metadata": {
        "colab": {
          "base_uri": "https://localhost:8080/",
          "height": 244
        },
        "id": "TCQAGZboIldL",
        "outputId": "15498566-b92c-443e-eb8c-9fdf1297c449"
      },
      "source": [
        "data.head()"
      ],
      "execution_count": 6,
      "outputs": [
        {
          "output_type": "execute_result",
          "data": {
            "text/html": [
              "<div>\n",
              "<style scoped>\n",
              "    .dataframe tbody tr th:only-of-type {\n",
              "        vertical-align: middle;\n",
              "    }\n",
              "\n",
              "    .dataframe tbody tr th {\n",
              "        vertical-align: top;\n",
              "    }\n",
              "\n",
              "    .dataframe thead th {\n",
              "        text-align: right;\n",
              "    }\n",
              "</style>\n",
              "<table border=\"1\" class=\"dataframe\">\n",
              "  <thead>\n",
              "    <tr style=\"text-align: right;\">\n",
              "      <th></th>\n",
              "      <th>name</th>\n",
              "      <th>gender</th>\n",
              "      <th>ethnicity</th>\n",
              "      <th>quality</th>\n",
              "      <th>call</th>\n",
              "      <th>city</th>\n",
              "      <th>jobs</th>\n",
              "      <th>experience</th>\n",
              "      <th>honors</th>\n",
              "      <th>volunteer</th>\n",
              "      <th>military</th>\n",
              "      <th>holes</th>\n",
              "      <th>school</th>\n",
              "      <th>email</th>\n",
              "      <th>computer</th>\n",
              "      <th>special</th>\n",
              "      <th>college</th>\n",
              "      <th>minimum</th>\n",
              "      <th>equal</th>\n",
              "      <th>wanted</th>\n",
              "      <th>requirements</th>\n",
              "      <th>reqexp</th>\n",
              "      <th>reqcomm</th>\n",
              "      <th>reqeduc</th>\n",
              "      <th>reqcomp</th>\n",
              "      <th>reqorg</th>\n",
              "      <th>industry</th>\n",
              "    </tr>\n",
              "  </thead>\n",
              "  <tbody>\n",
              "    <tr>\n",
              "      <th>0</th>\n",
              "      <td>Allison</td>\n",
              "      <td>female</td>\n",
              "      <td>cauc</td>\n",
              "      <td>low</td>\n",
              "      <td>no</td>\n",
              "      <td>chicago</td>\n",
              "      <td>2</td>\n",
              "      <td>6</td>\n",
              "      <td>no</td>\n",
              "      <td>no</td>\n",
              "      <td>no</td>\n",
              "      <td>yes</td>\n",
              "      <td>no</td>\n",
              "      <td>no</td>\n",
              "      <td>yes</td>\n",
              "      <td>no</td>\n",
              "      <td>yes</td>\n",
              "      <td>5</td>\n",
              "      <td>yes</td>\n",
              "      <td>supervisor</td>\n",
              "      <td>yes</td>\n",
              "      <td>yes</td>\n",
              "      <td>no</td>\n",
              "      <td>no</td>\n",
              "      <td>yes</td>\n",
              "      <td>no</td>\n",
              "      <td>manufacturing</td>\n",
              "    </tr>\n",
              "    <tr>\n",
              "      <th>1</th>\n",
              "      <td>Kristen</td>\n",
              "      <td>female</td>\n",
              "      <td>cauc</td>\n",
              "      <td>high</td>\n",
              "      <td>no</td>\n",
              "      <td>chicago</td>\n",
              "      <td>3</td>\n",
              "      <td>6</td>\n",
              "      <td>no</td>\n",
              "      <td>yes</td>\n",
              "      <td>yes</td>\n",
              "      <td>no</td>\n",
              "      <td>yes</td>\n",
              "      <td>yes</td>\n",
              "      <td>yes</td>\n",
              "      <td>no</td>\n",
              "      <td>no</td>\n",
              "      <td>5</td>\n",
              "      <td>yes</td>\n",
              "      <td>supervisor</td>\n",
              "      <td>yes</td>\n",
              "      <td>yes</td>\n",
              "      <td>no</td>\n",
              "      <td>no</td>\n",
              "      <td>yes</td>\n",
              "      <td>no</td>\n",
              "      <td>manufacturing</td>\n",
              "    </tr>\n",
              "    <tr>\n",
              "      <th>2</th>\n",
              "      <td>Lakisha</td>\n",
              "      <td>female</td>\n",
              "      <td>afam</td>\n",
              "      <td>low</td>\n",
              "      <td>no</td>\n",
              "      <td>chicago</td>\n",
              "      <td>1</td>\n",
              "      <td>6</td>\n",
              "      <td>no</td>\n",
              "      <td>no</td>\n",
              "      <td>no</td>\n",
              "      <td>no</td>\n",
              "      <td>yes</td>\n",
              "      <td>no</td>\n",
              "      <td>yes</td>\n",
              "      <td>no</td>\n",
              "      <td>yes</td>\n",
              "      <td>5</td>\n",
              "      <td>yes</td>\n",
              "      <td>supervisor</td>\n",
              "      <td>yes</td>\n",
              "      <td>yes</td>\n",
              "      <td>no</td>\n",
              "      <td>no</td>\n",
              "      <td>yes</td>\n",
              "      <td>no</td>\n",
              "      <td>manufacturing</td>\n",
              "    </tr>\n",
              "    <tr>\n",
              "      <th>3</th>\n",
              "      <td>Latonya</td>\n",
              "      <td>female</td>\n",
              "      <td>afam</td>\n",
              "      <td>high</td>\n",
              "      <td>no</td>\n",
              "      <td>chicago</td>\n",
              "      <td>4</td>\n",
              "      <td>6</td>\n",
              "      <td>no</td>\n",
              "      <td>yes</td>\n",
              "      <td>no</td>\n",
              "      <td>yes</td>\n",
              "      <td>no</td>\n",
              "      <td>yes</td>\n",
              "      <td>yes</td>\n",
              "      <td>yes</td>\n",
              "      <td>no</td>\n",
              "      <td>5</td>\n",
              "      <td>yes</td>\n",
              "      <td>supervisor</td>\n",
              "      <td>yes</td>\n",
              "      <td>yes</td>\n",
              "      <td>no</td>\n",
              "      <td>no</td>\n",
              "      <td>yes</td>\n",
              "      <td>no</td>\n",
              "      <td>manufacturing</td>\n",
              "    </tr>\n",
              "    <tr>\n",
              "      <th>4</th>\n",
              "      <td>Carrie</td>\n",
              "      <td>female</td>\n",
              "      <td>cauc</td>\n",
              "      <td>high</td>\n",
              "      <td>no</td>\n",
              "      <td>chicago</td>\n",
              "      <td>3</td>\n",
              "      <td>22</td>\n",
              "      <td>no</td>\n",
              "      <td>no</td>\n",
              "      <td>no</td>\n",
              "      <td>no</td>\n",
              "      <td>yes</td>\n",
              "      <td>yes</td>\n",
              "      <td>yes</td>\n",
              "      <td>no</td>\n",
              "      <td>no</td>\n",
              "      <td>some</td>\n",
              "      <td>yes</td>\n",
              "      <td>secretary</td>\n",
              "      <td>yes</td>\n",
              "      <td>yes</td>\n",
              "      <td>no</td>\n",
              "      <td>no</td>\n",
              "      <td>yes</td>\n",
              "      <td>yes</td>\n",
              "      <td>health/education/social services</td>\n",
              "    </tr>\n",
              "  </tbody>\n",
              "</table>\n",
              "</div>"
            ],
            "text/plain": [
              "      name  gender ethnicity  ... reqcomp reqorg                          industry\n",
              "0  Allison  female      cauc  ...     yes     no                     manufacturing\n",
              "1  Kristen  female      cauc  ...     yes     no                     manufacturing\n",
              "2  Lakisha  female      afam  ...     yes     no                     manufacturing\n",
              "3  Latonya  female      afam  ...     yes     no                     manufacturing\n",
              "4   Carrie  female      cauc  ...     yes    yes  health/education/social services\n",
              "\n",
              "[5 rows x 27 columns]"
            ]
          },
          "metadata": {},
          "execution_count": 6
        }
      ]
    },
    {
      "cell_type": "code",
      "metadata": {
        "id": "OQijwsagIlgP"
      },
      "source": [
        "data.drop(columns='name', inplace=True) #because name is not a very good variable and it will create high level of noise."
      ],
      "execution_count": 7,
      "outputs": []
    },
    {
      "cell_type": "code",
      "metadata": {
        "id": "_A379QVaIljY",
        "colab": {
          "base_uri": "https://localhost:8080/",
          "height": 163
        },
        "outputId": "5f08b83d-72de-4a45-82d4-43b77777301b"
      },
      "source": [
        "data.head(3)"
      ],
      "execution_count": 8,
      "outputs": [
        {
          "output_type": "execute_result",
          "data": {
            "text/html": [
              "<div>\n",
              "<style scoped>\n",
              "    .dataframe tbody tr th:only-of-type {\n",
              "        vertical-align: middle;\n",
              "    }\n",
              "\n",
              "    .dataframe tbody tr th {\n",
              "        vertical-align: top;\n",
              "    }\n",
              "\n",
              "    .dataframe thead th {\n",
              "        text-align: right;\n",
              "    }\n",
              "</style>\n",
              "<table border=\"1\" class=\"dataframe\">\n",
              "  <thead>\n",
              "    <tr style=\"text-align: right;\">\n",
              "      <th></th>\n",
              "      <th>gender</th>\n",
              "      <th>ethnicity</th>\n",
              "      <th>quality</th>\n",
              "      <th>call</th>\n",
              "      <th>city</th>\n",
              "      <th>jobs</th>\n",
              "      <th>experience</th>\n",
              "      <th>honors</th>\n",
              "      <th>volunteer</th>\n",
              "      <th>military</th>\n",
              "      <th>holes</th>\n",
              "      <th>school</th>\n",
              "      <th>email</th>\n",
              "      <th>computer</th>\n",
              "      <th>special</th>\n",
              "      <th>college</th>\n",
              "      <th>minimum</th>\n",
              "      <th>equal</th>\n",
              "      <th>wanted</th>\n",
              "      <th>requirements</th>\n",
              "      <th>reqexp</th>\n",
              "      <th>reqcomm</th>\n",
              "      <th>reqeduc</th>\n",
              "      <th>reqcomp</th>\n",
              "      <th>reqorg</th>\n",
              "      <th>industry</th>\n",
              "    </tr>\n",
              "  </thead>\n",
              "  <tbody>\n",
              "    <tr>\n",
              "      <th>0</th>\n",
              "      <td>female</td>\n",
              "      <td>cauc</td>\n",
              "      <td>low</td>\n",
              "      <td>no</td>\n",
              "      <td>chicago</td>\n",
              "      <td>2</td>\n",
              "      <td>6</td>\n",
              "      <td>no</td>\n",
              "      <td>no</td>\n",
              "      <td>no</td>\n",
              "      <td>yes</td>\n",
              "      <td>no</td>\n",
              "      <td>no</td>\n",
              "      <td>yes</td>\n",
              "      <td>no</td>\n",
              "      <td>yes</td>\n",
              "      <td>5</td>\n",
              "      <td>yes</td>\n",
              "      <td>supervisor</td>\n",
              "      <td>yes</td>\n",
              "      <td>yes</td>\n",
              "      <td>no</td>\n",
              "      <td>no</td>\n",
              "      <td>yes</td>\n",
              "      <td>no</td>\n",
              "      <td>manufacturing</td>\n",
              "    </tr>\n",
              "    <tr>\n",
              "      <th>1</th>\n",
              "      <td>female</td>\n",
              "      <td>cauc</td>\n",
              "      <td>high</td>\n",
              "      <td>no</td>\n",
              "      <td>chicago</td>\n",
              "      <td>3</td>\n",
              "      <td>6</td>\n",
              "      <td>no</td>\n",
              "      <td>yes</td>\n",
              "      <td>yes</td>\n",
              "      <td>no</td>\n",
              "      <td>yes</td>\n",
              "      <td>yes</td>\n",
              "      <td>yes</td>\n",
              "      <td>no</td>\n",
              "      <td>no</td>\n",
              "      <td>5</td>\n",
              "      <td>yes</td>\n",
              "      <td>supervisor</td>\n",
              "      <td>yes</td>\n",
              "      <td>yes</td>\n",
              "      <td>no</td>\n",
              "      <td>no</td>\n",
              "      <td>yes</td>\n",
              "      <td>no</td>\n",
              "      <td>manufacturing</td>\n",
              "    </tr>\n",
              "    <tr>\n",
              "      <th>2</th>\n",
              "      <td>female</td>\n",
              "      <td>afam</td>\n",
              "      <td>low</td>\n",
              "      <td>no</td>\n",
              "      <td>chicago</td>\n",
              "      <td>1</td>\n",
              "      <td>6</td>\n",
              "      <td>no</td>\n",
              "      <td>no</td>\n",
              "      <td>no</td>\n",
              "      <td>no</td>\n",
              "      <td>yes</td>\n",
              "      <td>no</td>\n",
              "      <td>yes</td>\n",
              "      <td>no</td>\n",
              "      <td>yes</td>\n",
              "      <td>5</td>\n",
              "      <td>yes</td>\n",
              "      <td>supervisor</td>\n",
              "      <td>yes</td>\n",
              "      <td>yes</td>\n",
              "      <td>no</td>\n",
              "      <td>no</td>\n",
              "      <td>yes</td>\n",
              "      <td>no</td>\n",
              "      <td>manufacturing</td>\n",
              "    </tr>\n",
              "  </tbody>\n",
              "</table>\n",
              "</div>"
            ],
            "text/plain": [
              "   gender ethnicity quality call  ... reqeduc  reqcomp  reqorg       industry\n",
              "0  female      cauc     low   no  ...      no      yes      no  manufacturing\n",
              "1  female      cauc    high   no  ...      no      yes      no  manufacturing\n",
              "2  female      afam     low   no  ...      no      yes      no  manufacturing\n",
              "\n",
              "[3 rows x 26 columns]"
            ]
          },
          "metadata": {},
          "execution_count": 8
        }
      ]
    },
    {
      "cell_type": "code",
      "metadata": {
        "id": "UMPv34If6j27"
      },
      "source": [
        "# note that CHAID only accept categorical values.\n",
        "data.apply(pd.Series.nunique)"
      ],
      "execution_count": null,
      "outputs": []
    },
    {
      "cell_type": "code",
      "metadata": {
        "id": "8AivPR6J6kBo"
      },
      "source": [
        "data.dtypes #checking for the one with numeric or continous variables."
      ],
      "execution_count": null,
      "outputs": []
    },
    {
      "cell_type": "markdown",
      "metadata": {
        "id": "PHSWOWvG8mZQ"
      },
      "source": [
        "##Transforming numeric variables"
      ]
    },
    {
      "cell_type": "code",
      "metadata": {
        "id": "CLWtNVvX6kEj"
      },
      "source": [
        "import seaborn as sns"
      ],
      "execution_count": 11,
      "outputs": []
    },
    {
      "cell_type": "code",
      "metadata": {
        "colab": {
          "base_uri": "https://localhost:8080/",
          "height": 296
        },
        "id": "tGOqfAJo8-i2",
        "outputId": "6d5664bf-5bfc-4d72-dd1f-a512c1b8dcf2"
      },
      "source": [
        "sns.kdeplot(data.jobs)"
      ],
      "execution_count": 12,
      "outputs": [
        {
          "output_type": "execute_result",
          "data": {
            "text/plain": [
              "<matplotlib.axes._subplots.AxesSubplot at 0x7ff5759d3a10>"
            ]
          },
          "metadata": {},
          "execution_count": 12
        },
        {
          "output_type": "display_data",
          "data": {
            "image/png": "[encoded data removed]",
            "text/plain": [
              "<Figure size 432x288 with 1 Axes>"
            ]
          },
          "metadata": {
            "needs_background": "light"
          }
        }
      ]
    },
    {
      "cell_type": "code",
      "metadata": {
        "id": "u6cjqt7xCoq4"
      },
      "source": [
        "data[['jobs']]"
      ],
      "execution_count": null,
      "outputs": []
    },
    {
      "cell_type": "code",
      "metadata": {
        "id": "uahfsnaZ8-dv"
      },
      "source": [
        "#trasnforming jobs. Grouping the numberic values into a range\n"
      ],
      "execution_count": 14,
      "outputs": []
    },
    {
      "cell_type": "code",
      "metadata": {
        "id": "aczXMhW1-gcC"
      },
      "source": [
        "data.jobs= pd.cut(x= data.jobs, \n",
        "                  bins=[-1,2.9,4.9,9],\n",
        "                  labels=[0,1,2]       \n",
        "                  \n",
        "                  )\n"
      ],
      "execution_count": 15,
      "outputs": []
    },
    {
      "cell_type": "code",
      "metadata": {
        "colab": {
          "base_uri": "https://localhost:8080/"
        },
        "id": "A8pPCrm18-aw",
        "outputId": "c11034f9-7e09-407a-9b6c-cde220bdb4ae"
      },
      "source": [
        "data.jobs \n",
        "# we need to factorize to remove the order."
      ],
      "execution_count": 16,
      "outputs": [
        {
          "output_type": "execute_result",
          "data": {
            "text/plain": [
              "0       0\n",
              "1       1\n",
              "2       0\n",
              "3       1\n",
              "4       1\n",
              "       ..\n",
              "4865    0\n",
              "4866    1\n",
              "4867    2\n",
              "4868    1\n",
              "4869    1\n",
              "Name: jobs, Length: 4870, dtype: category\n",
              "Categories (3, int64): [0 < 1 < 2]"
            ]
          },
          "metadata": {},
          "execution_count": 16
        }
      ]
    },
    {
      "cell_type": "code",
      "metadata": {
        "id": "OH_WESDFGjLY"
      },
      "source": [
        "data.jobs=pd.factorize(data.jobs)[0] #we only need the first index"
      ],
      "execution_count": 19,
      "outputs": []
    },
    {
      "cell_type": "code",
      "metadata": {
        "colab": {
          "base_uri": "https://localhost:8080/"
        },
        "id": "s0ZSXy0GGwv8",
        "outputId": "50a4ddf3-0a4b-42de-c6a5-65d706ae44f7"
      },
      "source": [
        "data.jobs"
      ],
      "execution_count": 20,
      "outputs": [
        {
          "output_type": "execute_result",
          "data": {
            "text/plain": [
              "0       0\n",
              "1       1\n",
              "2       0\n",
              "3       1\n",
              "4       1\n",
              "       ..\n",
              "4865    0\n",
              "4866    1\n",
              "4867    2\n",
              "4868    1\n",
              "4869    1\n",
              "Name: jobs, Length: 4870, dtype: int64"
            ]
          },
          "metadata": {},
          "execution_count": 20
        }
      ]
    },
    {
      "cell_type": "markdown",
      "metadata": {
        "id": "v_tKOI6WHLRB"
      },
      "source": [
        "##Transforming experience"
      ]
    },
    {
      "cell_type": "code",
      "metadata": {
        "colab": {
          "base_uri": "https://localhost:8080/",
          "height": 299
        },
        "id": "P9BmYy07Gwtn",
        "outputId": "9c8954b6-32af-4e5d-eff9-0ffe559d3dbd"
      },
      "source": [
        "sns.kdeplot(data.experience)"
      ],
      "execution_count": 22,
      "outputs": [
        {
          "output_type": "execute_result",
          "data": {
            "text/plain": [
              "<matplotlib.axes._subplots.AxesSubplot at 0x7ff56fe84350>"
            ]
          },
          "metadata": {},
          "execution_count": 22
        },
        {
          "output_type": "display_data",
          "data": {
            "image/png": "[encoded data removed]",
            "text/plain": [
              "<Figure size 432x288 with 1 Axes>"
            ]
          },
          "metadata": {
            "needs_background": "light"
          }
        }
      ]
    },
    {
      "cell_type": "code",
      "metadata": {
        "colab": {
          "base_uri": "https://localhost:8080/"
        },
        "id": "6LQ8XXAAGwq_",
        "outputId": "420ca650-7a6d-49de-8cfd-a638456b4be8"
      },
      "source": [
        "data.experience= pd.qcut(x= data.experience, \n",
        "                  q=3,\n",
        "                  labels=[0,1,2]       \n",
        "                  \n",
        "                  )\n",
        "data.experience=pd.factorize(data.experience)[0]\n",
        "data.experience"
      ],
      "execution_count": 24,
      "outputs": [
        {
          "output_type": "execute_result",
          "data": {
            "text/plain": [
              "0       0\n",
              "1       0\n",
              "2       0\n",
              "3       0\n",
              "4       1\n",
              "       ..\n",
              "4865    2\n",
              "4866    0\n",
              "4867    0\n",
              "4868    2\n",
              "4869    0\n",
              "Name: experience, Length: 4870, dtype: int64"
            ]
          },
          "metadata": {},
          "execution_count": 24
        }
      ]
    },
    {
      "cell_type": "markdown",
      "metadata": {
        "id": "xKYZtx2vJBsV"
      },
      "source": [
        "##Transform minimum variable"
      ]
    },
    {
      "cell_type": "code",
      "metadata": {
        "colab": {
          "base_uri": "https://localhost:8080/"
        },
        "id": "qGJUBQYoGwc3",
        "outputId": "dbed3126-9664-49e5-9a70-4b1fb4ba4dc3"
      },
      "source": [
        "#minimum variable is the minimum experience that was required in the job\n",
        "data.minimum.value_counts() #the data looks messy with combination of float and int"
      ],
      "execution_count": 25,
      "outputs": [
        {
          "output_type": "execute_result",
          "data": {
            "text/plain": [
              "none    2746\n",
              "some    1064\n",
              "2        356\n",
              "3        331\n",
              "5        163\n",
              "1        142\n",
              "10        18\n",
              "7         12\n",
              "8         10\n",
              "0.5        8\n",
              "4          8\n",
              "6          8\n",
              "0          4\n",
              "Name: minimum, dtype: int64"
            ]
          },
          "metadata": {},
          "execution_count": 25
        }
      ]
    },
    {
      "cell_type": "code",
      "metadata": {
        "colab": {
          "base_uri": "https://localhost:8080/"
        },
        "id": "7NgLzV71Kk4_",
        "outputId": "b29bb256-d690-463d-f85f-cad93a990ffb"
      },
      "source": [
        "replacement_dict= {'none':0,\n",
        "                   '0.5':0,\n",
        "                   '1':1,\n",
        "                   '2':1,\n",
        "                   '3':2,\n",
        "                   '4':2,\n",
        "                   'some':2,\n",
        "                   '5':3,\n",
        "                   '6':3,\n",
        "                   '7':3,\n",
        "                   '8':3,\n",
        "                   '10':3\n",
        "                   \n",
        "                   }\n",
        "replacement_dict"
      ],
      "execution_count": 27,
      "outputs": [
        {
          "output_type": "execute_result",
          "data": {
            "text/plain": [
              "{'0.5': 0,\n",
              " '1': 1,\n",
              " '10': 3,\n",
              " '2': 1,\n",
              " '3': 2,\n",
              " '4': 2,\n",
              " '5': 3,\n",
              " '6': 3,\n",
              " '7': 3,\n",
              " '8': 3,\n",
              " 'none': 0,\n",
              " 'some': 2}"
            ]
          },
          "metadata": {},
          "execution_count": 27
        }
      ]
    },
    {
      "cell_type": "code",
      "metadata": {
        "id": "QpbIvW7uKlDP"
      },
      "source": [
        "data.minimum=data.minimum.replace(replacement_dict)"
      ],
      "execution_count": 28,
      "outputs": []
    },
    {
      "cell_type": "code",
      "metadata": {
        "colab": {
          "base_uri": "https://localhost:8080/"
        },
        "id": "e-XzlKlTL6kf",
        "outputId": "16ef3588-13ec-48c4-f3d4-172cc0ffa8ec"
      },
      "source": [
        "data.minimum"
      ],
      "execution_count": 29,
      "outputs": [
        {
          "output_type": "execute_result",
          "data": {
            "text/plain": [
              "0       3\n",
              "1       3\n",
              "2       3\n",
              "3       3\n",
              "4       2\n",
              "       ..\n",
              "4865    0\n",
              "4866    0\n",
              "4867    0\n",
              "4868    0\n",
              "4869    0\n",
              "Name: minimum, Length: 4870, dtype: int64"
            ]
          },
          "metadata": {},
          "execution_count": 29
        }
      ]
    },
    {
      "cell_type": "markdown",
      "metadata": {
        "id": "hdCD452AMoJj"
      },
      "source": [
        "#Transforming other variables"
      ]
    },
    {
      "cell_type": "code",
      "metadata": {
        "colab": {
          "base_uri": "https://localhost:8080/",
          "height": 181
        },
        "id": "iC-YyZC5MmfR",
        "outputId": "33335ef7-27cc-4707-9d9b-6698f882e8e5"
      },
      "source": [
        "data=pd.get_dummies(data, drop_first=True, )\n",
        "data.head(3)"
      ],
      "execution_count": 30,
      "outputs": [
        {
          "output_type": "execute_result",
          "data": {
            "text/html": [
              "<div>\n",
              "<style scoped>\n",
              "    .dataframe tbody tr th:only-of-type {\n",
              "        vertical-align: middle;\n",
              "    }\n",
              "\n",
              "    .dataframe tbody tr th {\n",
              "        vertical-align: top;\n",
              "    }\n",
              "\n",
              "    .dataframe thead th {\n",
              "        text-align: right;\n",
              "    }\n",
              "</style>\n",
              "<table border=\"1\" class=\"dataframe\">\n",
              "  <thead>\n",
              "    <tr style=\"text-align: right;\">\n",
              "      <th></th>\n",
              "      <th>jobs</th>\n",
              "      <th>experience</th>\n",
              "      <th>minimum</th>\n",
              "      <th>gender_male</th>\n",
              "      <th>ethnicity_cauc</th>\n",
              "      <th>quality_low</th>\n",
              "      <th>call_yes</th>\n",
              "      <th>city_chicago</th>\n",
              "      <th>honors_yes</th>\n",
              "      <th>volunteer_yes</th>\n",
              "      <th>military_yes</th>\n",
              "      <th>holes_yes</th>\n",
              "      <th>school_yes</th>\n",
              "      <th>email_yes</th>\n",
              "      <th>computer_yes</th>\n",
              "      <th>special_yes</th>\n",
              "      <th>college_yes</th>\n",
              "      <th>equal_yes</th>\n",
              "      <th>wanted_office support</th>\n",
              "      <th>wanted_other</th>\n",
              "      <th>wanted_retail sales</th>\n",
              "      <th>wanted_secretary</th>\n",
              "      <th>wanted_supervisor</th>\n",
              "      <th>requirements_yes</th>\n",
              "      <th>reqexp_yes</th>\n",
              "      <th>reqcomm_yes</th>\n",
              "      <th>reqeduc_yes</th>\n",
              "      <th>reqcomp_yes</th>\n",
              "      <th>reqorg_yes</th>\n",
              "      <th>industry_finance/insurance/real estate</th>\n",
              "      <th>industry_health/education/social services</th>\n",
              "      <th>industry_manufacturing</th>\n",
              "      <th>industry_trade</th>\n",
              "      <th>industry_transport/communication</th>\n",
              "      <th>industry_unknown</th>\n",
              "    </tr>\n",
              "  </thead>\n",
              "  <tbody>\n",
              "    <tr>\n",
              "      <th>0</th>\n",
              "      <td>0</td>\n",
              "      <td>0</td>\n",
              "      <td>3</td>\n",
              "      <td>0</td>\n",
              "      <td>1</td>\n",
              "      <td>1</td>\n",
              "      <td>0</td>\n",
              "      <td>1</td>\n",
              "      <td>0</td>\n",
              "      <td>0</td>\n",
              "      <td>0</td>\n",
              "      <td>1</td>\n",
              "      <td>0</td>\n",
              "      <td>0</td>\n",
              "      <td>1</td>\n",
              "      <td>0</td>\n",
              "      <td>1</td>\n",
              "      <td>1</td>\n",
              "      <td>0</td>\n",
              "      <td>0</td>\n",
              "      <td>0</td>\n",
              "      <td>0</td>\n",
              "      <td>1</td>\n",
              "      <td>1</td>\n",
              "      <td>1</td>\n",
              "      <td>0</td>\n",
              "      <td>0</td>\n",
              "      <td>1</td>\n",
              "      <td>0</td>\n",
              "      <td>0</td>\n",
              "      <td>0</td>\n",
              "      <td>1</td>\n",
              "      <td>0</td>\n",
              "      <td>0</td>\n",
              "      <td>0</td>\n",
              "    </tr>\n",
              "    <tr>\n",
              "      <th>1</th>\n",
              "      <td>1</td>\n",
              "      <td>0</td>\n",
              "      <td>3</td>\n",
              "      <td>0</td>\n",
              "      <td>1</td>\n",
              "      <td>0</td>\n",
              "      <td>0</td>\n",
              "      <td>1</td>\n",
              "      <td>0</td>\n",
              "      <td>1</td>\n",
              "      <td>1</td>\n",
              "      <td>0</td>\n",
              "      <td>1</td>\n",
              "      <td>1</td>\n",
              "      <td>1</td>\n",
              "      <td>0</td>\n",
              "      <td>0</td>\n",
              "      <td>1</td>\n",
              "      <td>0</td>\n",
              "      <td>0</td>\n",
              "      <td>0</td>\n",
              "      <td>0</td>\n",
              "      <td>1</td>\n",
              "      <td>1</td>\n",
              "      <td>1</td>\n",
              "      <td>0</td>\n",
              "      <td>0</td>\n",
              "      <td>1</td>\n",
              "      <td>0</td>\n",
              "      <td>0</td>\n",
              "      <td>0</td>\n",
              "      <td>1</td>\n",
              "      <td>0</td>\n",
              "      <td>0</td>\n",
              "      <td>0</td>\n",
              "    </tr>\n",
              "    <tr>\n",
              "      <th>2</th>\n",
              "      <td>0</td>\n",
              "      <td>0</td>\n",
              "      <td>3</td>\n",
              "      <td>0</td>\n",
              "      <td>0</td>\n",
              "      <td>1</td>\n",
              "      <td>0</td>\n",
              "      <td>1</td>\n",
              "      <td>0</td>\n",
              "      <td>0</td>\n",
              "      <td>0</td>\n",
              "      <td>0</td>\n",
              "      <td>1</td>\n",
              "      <td>0</td>\n",
              "      <td>1</td>\n",
              "      <td>0</td>\n",
              "      <td>1</td>\n",
              "      <td>1</td>\n",
              "      <td>0</td>\n",
              "      <td>0</td>\n",
              "      <td>0</td>\n",
              "      <td>0</td>\n",
              "      <td>1</td>\n",
              "      <td>1</td>\n",
              "      <td>1</td>\n",
              "      <td>0</td>\n",
              "      <td>0</td>\n",
              "      <td>1</td>\n",
              "      <td>0</td>\n",
              "      <td>0</td>\n",
              "      <td>0</td>\n",
              "      <td>1</td>\n",
              "      <td>0</td>\n",
              "      <td>0</td>\n",
              "      <td>0</td>\n",
              "    </tr>\n",
              "  </tbody>\n",
              "</table>\n",
              "</div>"
            ],
            "text/plain": [
              "   jobs  experience  ...  industry_transport/communication  industry_unknown\n",
              "0     0           0  ...                                 0                 0\n",
              "1     1           0  ...                                 0                 0\n",
              "2     0           0  ...                                 0                 0\n",
              "\n",
              "[3 rows x 35 columns]"
            ]
          },
          "metadata": {},
          "execution_count": 30
        }
      ]
    },
    {
      "cell_type": "markdown",
      "metadata": {
        "id": "Ov_gt0ENNxQk"
      },
      "source": [
        "#CHAID"
      ]
    },
    {
      "cell_type": "code",
      "metadata": {
        "colab": {
          "base_uri": "https://localhost:8080/"
        },
        "id": "IK9mGQwWMlRv",
        "outputId": "e7b78a19-a285-4f34-903e-781f6820ac51"
      },
      "source": [
        "y_val= data.call_yes.name\n",
        "x_val= data.drop(columns='call_yes').columns\n",
        "print(len(x_val))\n",
        "print(x_val)\n"
      ],
      "execution_count": 55,
      "outputs": [
        {
          "output_type": "stream",
          "name": "stdout",
          "text": [
            "34\n",
            "Index(['jobs', 'experience', 'minimum', 'gender_male', 'ethnicity_cauc',\n",
            "       'quality_low', 'city_chicago', 'honors_yes', 'volunteer_yes',\n",
            "       'military_yes', 'holes_yes', 'school_yes', 'email_yes', 'computer_yes',\n",
            "       'special_yes', 'college_yes', 'equal_yes', 'wanted_office support',\n",
            "       'wanted_other', 'wanted_retail sales', 'wanted_secretary',\n",
            "       'wanted_supervisor', 'requirements_yes', 'reqexp_yes', 'reqcomm_yes',\n",
            "       'reqeduc_yes', 'reqcomp_yes', 'reqorg_yes',\n",
            "       'industry_finance/insurance/real estate',\n",
            "       'industry_health/education/social services', 'industry_manufacturing',\n",
            "       'industry_trade', 'industry_transport/communication',\n",
            "       'industry_unknown'],\n",
            "      dtype='object')\n"
          ]
        }
      ]
    },
    {
      "cell_type": "code",
      "metadata": {
        "id": "uIgUxZBJL6rN"
      },
      "source": [
        "#CHAID TREE (we have imported tree earlier)\n",
        "#you need to tell CHAID which of your data is ordinal and which is nominal\n",
        " #there were 34 columns. The first 3 were ordinal"
      ],
      "execution_count": 45,
      "outputs": []
    },
    {
      "cell_type": "code",
      "metadata": {
        "id": "bF1E26JFL6vX"
      },
      "source": [
        "model=Tree.from_pandas_df(data, \n",
        "                    \n",
        "                    dict(zip(x_val, ['ordinal']*3+ ['nominal']*31))\n",
        "                    \n",
        "                    , y_val, max_depth=3, min_child_node_size=250\n",
        "\n",
        ")"
      ],
      "execution_count": 64,
      "outputs": []
    },
    {
      "cell_type": "markdown",
      "metadata": {
        "id": "Rf3h-EWWXJvO"
      },
      "source": [
        "#Visualization"
      ]
    },
    {
      "cell_type": "code",
      "metadata": {
        "id": "Kk_DDxCLeEvO"
      },
      "source": [
        ""
      ],
      "execution_count": null,
      "outputs": []
    },
    {
      "cell_type": "code",
      "metadata": {
        "id": "-3qihxICWVA2"
      },
      "source": [
        "import orca\n",
        "import plotly\n",
        "import plotly.graph_objects as go"
      ],
      "execution_count": 62,
      "outputs": []
    },
    {
      "cell_type": "code",
      "metadata": {
        "id": "4669AQOGWL0h"
      },
      "source": [
        "#model.render()"
      ],
      "execution_count": 66,
      "outputs": []
    }
  ]
}